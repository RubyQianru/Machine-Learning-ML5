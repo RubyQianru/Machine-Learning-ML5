{
 "cells": [
  {
   "cell_type": "code",
   "execution_count": 1,
   "metadata": {},
   "outputs": [
    {
     "name": "stderr",
     "output_type": "stream",
     "text": [
      "2024-02-26 14:52:35.815293: I tensorflow/core/platform/cpu_feature_guard.cc:182] This TensorFlow binary is optimized to use available CPU instructions in performance-critical operations.\n",
      "To enable the following instructions: AVX2 FMA, in other operations, rebuild TensorFlow with the appropriate compiler flags.\n"
     ]
    }
   ],
   "source": [
    "import utils as u # Import helper functions from utils.py"
   ]
  },
  {
   "cell_type": "code",
   "execution_count": 2,
   "metadata": {},
   "outputs": [
    {
     "name": "stdout",
     "output_type": "stream",
     "text": [
      "[{'0': 'h'}, {'0': 'h'}, {'0': 'h'}, {'0': 'h'}, {'0': 'h'}, {'0': 'h'}, {'0': 'h'}, {'0': 'h'}, {'0': 'h'}, {'0': 'h'}, {'0': 'h'}, {'0': 'h'}, {'0': 'h'}, {'0': 'h'}, {'0': 'h'}, {'0': 'h'}, {'0': 'h'}, {'0': 'h'}, {'0': 'h'}, {'0': 'h'}, {'0': 'h'}, {'0': 'h'}, {'0': 'h'}, {'0': 'h'}, {'0': 'h'}, {'0': 'h'}, {'0': 'h'}, {'0': 'h'}, {'0': 'h'}, {'0': 'h'}, {'0': 'h'}, {'0': 'h'}, {'0': 'h'}, {'0': 'h'}, {'0': 'h'}, {'0': 'h'}, {'0': 'h'}, {'0': 'h'}, {'0': 'h'}, {'0': 'h'}, {'0': 'h'}, {'0': 'h'}, {'0': 'h'}, {'0': 'h'}, {'0': 'h'}, {'0': 'h'}, {'0': 'h'}, {'0': 'h'}, {'0': 'h'}, {'0': 'h'}, {'0': 'h'}, {'0': 'h'}, {'0': 'h'}, {'0': 'h'}, {'0': 'h'}, {'0': 'h'}, {'0': 'h'}, {'0': 'h'}, {'0': 'h'}, {'0': 'h'}, {'0': 'h'}, {'0': 'h'}, {'0': 'h'}, {'0': 'h'}, {'0': 'h'}, {'0': 'h'}, {'0': 'h'}, {'0': 'h'}, {'0': 'h'}, {'0': 'h'}, {'0': 'r'}, {'0': 'r'}, {'0': 'r'}, {'0': 'r'}, {'0': 'r'}, {'0': 'r'}, {'0': 'r'}, {'0': 'r'}, {'0': 'r'}, {'0': 'r'}, {'0': 'r'}, {'0': 'r'}, {'0': 'r'}, {'0': 'r'}, {'0': 'r'}, {'0': 'r'}, {'0': 'r'}, {'0': 'r'}, {'0': 'r'}, {'0': 'r'}, {'0': 'r'}, {'0': 'r'}, {'0': 'r'}, {'0': 'r'}, {'0': 'r'}, {'0': 'r'}, {'0': 'r'}, {'0': 'r'}, {'0': 'r'}, {'0': 'r'}, {'0': 'r'}, {'0': 'r'}, {'0': 'r'}, {'0': 'r'}, {'0': 'r'}, {'0': 'r'}, {'0': 'r'}, {'0': 'r'}, {'0': 'r'}, {'0': 'r'}, {'0': 'r'}, {'0': 'r'}, {'0': 'r'}, {'0': 'r'}, {'0': 'r'}, {'0': 'r'}, {'0': 'r'}, {'0': 'r'}, {'0': 'r'}, {'0': 'r'}, {'0': 'r'}, {'0': 'r'}, {'0': 'r'}, {'0': 'r'}, {'0': 'r'}, {'0': 'r'}, {'0': 'r'}, {'0': 'r'}, {'0': 'r'}, {'0': 'r'}, {'0': 'r'}, {'0': 'r'}, {'0': 'r'}, {'0': 'r'}, {'0': 'r'}, {'0': 'y'}, {'0': 'y'}, {'0': 'y'}, {'0': 'y'}, {'0': 'y'}, {'0': 'y'}, {'0': 'y'}, {'0': 'y'}, {'0': 'y'}, {'0': 'y'}, {'0': 'y'}, {'0': 'y'}, {'0': 'y'}, {'0': 'y'}, {'0': 'y'}, {'0': 'y'}, {'0': 'y'}, {'0': 'y'}, {'0': 'y'}, {'0': 'y'}, {'0': 'y'}, {'0': 'y'}, {'0': 'y'}, {'0': 'y'}, {'0': 'y'}, {'0': 'y'}, {'0': 'y'}, {'0': 'y'}, {'0': 'y'}, {'0': 'y'}, {'0': 'y'}, {'0': 'y'}, {'0': 'y'}, {'0': 'y'}, {'0': 'y'}, {'0': 'y'}, {'0': 'y'}, {'0': 'y'}, {'0': 'y'}, {'0': 'y'}, {'0': 'y'}, {'0': 'y'}, {'0': 'y'}, {'0': 'y'}, {'0': 'y'}, {'0': 'y'}, {'0': 'y'}, {'0': 'y'}, {'0': 'y'}, {'0': 'y'}, {'0': 'y'}, {'0': 'y'}, {'0': 'y'}, {'0': 'y'}, {'0': 'y'}, {'0': 'y'}, {'0': 'y'}, {'0': 'y'}, {'0': 'y'}, {'0': 'y'}, {'0': 'y'}, {'0': 'y'}, {'0': 'y'}, {'0': 'y'}, {'0': 'y'}, {'0': 'y'}, {'0': 'y'}, {'0': 'y'}, {'0': 't'}, {'0': 't'}, {'0': 't'}, {'0': 't'}, {'0': 't'}, {'0': 't'}, {'0': 't'}, {'0': 't'}, {'0': 't'}, {'0': 't'}, {'0': 't'}, {'0': 't'}, {'0': 't'}, {'0': 't'}, {'0': 't'}, {'0': 't'}, {'0': 't'}, {'0': 't'}, {'0': 't'}, {'0': 't'}, {'0': 't'}, {'0': 't'}, {'0': 't'}, {'0': 't'}, {'0': 't'}, {'0': 't'}, {'0': 't'}, {'0': 't'}, {'0': 't'}, {'0': 't'}, {'0': 't'}, {'0': 't'}, {'0': 't'}, {'0': 't'}, {'0': 't'}, {'0': 't'}, {'0': 't'}, {'0': 't'}, {'0': 't'}, {'0': 't'}, {'0': 't'}, {'0': 't'}, {'0': 't'}, {'0': 't'}, {'0': 't'}, {'0': 't'}, {'0': 't'}, {'0': 't'}, {'0': 't'}, {'0': 't'}, {'0': 't'}, {'0': 't'}, {'0': 't'}]\n",
      "[0 3 0 0 2 0 2 1 3 0 0 1 2 0 3 1 0 2 0 2 1 3 3 1 2 1 0 1 1 2 0 1 0 3 1 0 0\n",
      " 2 1 2 1 3 3 3 0 2 2 0 0 2 0 2 3 1 0 1 1 1 2 2 3 3 2 1 0 0 0 2 0 1 0 3 2 1\n",
      " 1 1 2 1 1 3 2 1 1 0 1 3 0 3 2 3 2 0 0 1 2 3 0 3 2 1 1 3 3 3 2 3 2 0 0 3 2\n",
      " 3 0 3 3 2 2 2 2 1 3 1 3 2 0 2 1 2 3 2 1 2 3 1 2 3 2 1 2 3 2 3 2 0 1 0 0 0\n",
      " 1 3 3 2 2 2 0 0 3 2 2 1 0 0 3 2 3 1 2 1 1 0 1 3 0 1 0 0 1 1 2 0 0 0 2 1 2\n",
      " 0 0 3 1 1 1 1 2 1 1 2 2 2 3 2 2 2 0 0 3 1 0 3 0 1 2 3 1 3 3 2 0 2 1 0 0 3\n",
      " 0 0 0 1 0 1 2 0 1 2 2 0 1 1 2 3 0 0 0 3 3 1 2 2 0 1 1 3 0 0 1 3 0 2]\n"
     ]
    }
   ],
   "source": [
    "x_train, y_train, x_test, y_test = u.load_data(random_seed=2) "
   ]
  },
  {
   "cell_type": "code",
   "execution_count": null,
   "metadata": {},
   "outputs": [],
   "source": [
    "print(x_train.shape, y_train.shape, x_test.shape, y_test.shape)"
   ]
  },
  {
   "cell_type": "code",
   "execution_count": null,
   "metadata": {},
   "outputs": [],
   "source": [
    "x_train, y_train, x_val, y_val, x_test, y_test = u.preprocess_data(x_train, \n",
    "                                                                 y_train, \n",
    "                                                                 x_test, \n",
    "                                                                 y_test)"
   ]
  },
  {
   "cell_type": "code",
   "execution_count": null,
   "metadata": {},
   "outputs": [],
   "source": [
    "print(x_train.shape, y_train.shape, x_test.shape, y_test.shape)"
   ]
  },
  {
   "cell_type": "code",
   "execution_count": null,
   "metadata": {},
   "outputs": [],
   "source": [
    "print(len(x_train.shape))\n",
    "print(x_train.max())\n",
    "print(x_train.min())\n",
    "\n",
    "print(len(x_test.shape))\n",
    "print(x_test.max())\n",
    "print(x_test.min())"
   ]
  },
  {
   "cell_type": "code",
   "execution_count": null,
   "metadata": {},
   "outputs": [],
   "source": [
    "model = u.build_model()\n"
   ]
  },
  {
   "cell_type": "code",
   "execution_count": null,
   "metadata": {},
   "outputs": [],
   "source": [
    "history = u.train_model(model, x_train, y_train, x_val, y_val, \n",
    "                      epochs=5, batch_size=32)"
   ]
  },
  {
   "cell_type": "code",
   "execution_count": null,
   "metadata": {},
   "outputs": [],
   "source": [
    "u.plot_loss(history)"
   ]
  },
  {
   "cell_type": "code",
   "execution_count": null,
   "metadata": {},
   "outputs": [],
   "source": [
    "test_acc, y_pred = u.test_model(model, x_test, y_test)"
   ]
  },
  {
   "cell_type": "code",
   "execution_count": null,
   "metadata": {},
   "outputs": [],
   "source": [
    "model.save('./Handpose-Recognition')"
   ]
  },
  {
   "cell_type": "code",
   "execution_count": null,
   "metadata": {},
   "outputs": [],
   "source": [
    "# %pip install tensorflowjs"
   ]
  },
  {
   "cell_type": "code",
   "execution_count": null,
   "metadata": {},
   "outputs": [],
   "source": [
    "!tensorflowjs_converter \\\n",
    "    --input_format=tf_saved_model \\\n",
    "    --output_format=tfjs_graph_model \\\n",
    "    --saved_model_tags=serve \\\n",
    "    /Users/qianruzhang/Documents/GitHub/Machine-Learning-ML5/Week4-Real-Time-Posture-Recognition/Handpose-Recognition\\\n",
    "    /Users/qianruzhang/Documents/GitHub/Machine-Learning-ML5/Week4-Real-Time-Posture-Recognition/tfjsmodel\n"
   ]
  }
 ],
 "metadata": {
  "kernelspec": {
   "display_name": "base",
   "language": "python",
   "name": "python3"
  },
  "language_info": {
   "codemirror_mode": {
    "name": "ipython",
    "version": 3
   },
   "file_extension": ".py",
   "mimetype": "text/x-python",
   "name": "python",
   "nbconvert_exporter": "python",
   "pygments_lexer": "ipython3",
   "version": "3.8.18"
  }
 },
 "nbformat": 4,
 "nbformat_minor": 2
}
