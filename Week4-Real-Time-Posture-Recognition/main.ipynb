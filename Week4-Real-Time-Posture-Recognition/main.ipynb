{
 "cells": [
  {
   "cell_type": "code",
   "execution_count": null,
   "metadata": {},
   "outputs": [],
   "source": [
    "import utils as u"
   ]
  },
  {
   "cell_type": "code",
   "execution_count": null,
   "metadata": {},
   "outputs": [],
   "source": [
    "x_train, y_train, x_test, y_test = u.load_data()"
   ]
  },
  {
   "cell_type": "code",
   "execution_count": null,
   "metadata": {},
   "outputs": [],
   "source": [
    "print(x_train.shape, y_train.shape, x_test.shape, y_test.shape)"
   ]
  },
  {
   "cell_type": "code",
   "execution_count": null,
   "metadata": {},
   "outputs": [],
   "source": [
    "x_train, y_train, x_val, y_val, x_test, y_test = u.preprocess_data(x_train, \n",
    "                                                                 y_train, \n",
    "                                                                 x_test, \n",
    "                                                                 y_test)"
   ]
  },
  {
   "cell_type": "code",
   "execution_count": null,
   "metadata": {},
   "outputs": [],
   "source": [
    "print(x_train.shape, y_train.shape, x_test.shape, y_test.shape)"
   ]
  },
  {
   "cell_type": "code",
   "execution_count": null,
   "metadata": {},
   "outputs": [],
   "source": [
    "model = u.build_model()\n"
   ]
  },
  {
   "cell_type": "code",
   "execution_count": null,
   "metadata": {},
   "outputs": [],
   "source": [
    "history = u.train_model(model, x_train, y_train, x_val, y_val, \n",
    "                      epochs=5, batch_size=8)"
   ]
  },
  {
   "cell_type": "code",
   "execution_count": null,
   "metadata": {},
   "outputs": [],
   "source": [
    "u.plot_loss(history)"
   ]
  },
  {
   "cell_type": "code",
   "execution_count": 12,
   "metadata": {},
   "outputs": [
    {
     "name": "stdout",
     "output_type": "stream",
     "text": [
      "1/1 [==============================] - 0s 100ms/step\n",
      "1/1 [==============================] - 0s 23ms/step - loss: 0.0000e+00 - accuracy: 1.0000\n"
     ]
    }
   ],
   "source": [
    "test_acc, y_pred = u.test_model(model, x_test, y_test)"
   ]
  },
  {
   "cell_type": "code",
   "execution_count": 22,
   "metadata": {},
   "outputs": [
    {
     "name": "stdout",
     "output_type": "stream",
     "text": [
      "INFO:tensorflow:Assets written to: ./Handpose-Recognition/assets\n"
     ]
    },
    {
     "name": "stderr",
     "output_type": "stream",
     "text": [
      "INFO:tensorflow:Assets written to: ./Handpose-Recognition/assets\n"
     ]
    }
   ],
   "source": [
    "model.save('./Handpose-Recognition')"
   ]
  },
  {
   "cell_type": "code",
   "execution_count": 14,
   "metadata": {},
   "outputs": [
    {
     "name": "stdout",
     "output_type": "stream",
     "text": [
      "Collecting tensorflowjs\n",
      "  Downloading tensorflowjs-4.17.0-py3-none-any.whl.metadata (3.2 kB)\n",
      "Collecting flax>=0.7.2 (from tensorflowjs)\n",
      "  Downloading flax-0.7.2-py3-none-any.whl.metadata (10.0 kB)\n",
      "Requirement already satisfied: importlib_resources>=5.9.0 in /Users/qianruzhang/anaconda3/envs/dl4m/lib/python3.8/site-packages (from tensorflowjs) (6.1.1)\n",
      "Collecting jax>=0.4.13 (from tensorflowjs)\n",
      "  Downloading jax-0.4.13.tar.gz (1.3 MB)\n",
      "\u001b[2K     \u001b[90m━━━━━━━━━━━━━━━━━━━━━━━━━━━━━━━━━━━━━━━━\u001b[0m \u001b[32m1.3/1.3 MB\u001b[0m \u001b[31m17.7 MB/s\u001b[0m eta \u001b[36m0:00:00\u001b[0ma \u001b[36m0:00:01\u001b[0m\n",
      "\u001b[?25h  Installing build dependencies ... \u001b[?25ldone\n",
      "\u001b[?25h  Getting requirements to build wheel ... \u001b[?25ldone\n",
      "\u001b[?25h  Preparing metadata (pyproject.toml) ... \u001b[?25ldone\n",
      "\u001b[?25hCollecting jaxlib>=0.4.13 (from tensorflowjs)\n",
      "  Downloading jaxlib-0.4.13-cp38-cp38-macosx_10_14_x86_64.whl.metadata (2.1 kB)\n",
      "Requirement already satisfied: tensorflow<3,>=2.13.0 in /Users/qianruzhang/anaconda3/envs/dl4m/lib/python3.8/site-packages (from tensorflowjs) (2.13.1)\n",
      "Collecting tensorflow-decision-forests>=1.5.0 (from tensorflowjs)\n",
      "  Downloading tensorflow_decision_forests-1.5.0-cp38-cp38-macosx_10_15_x86_64.whl.metadata (4.9 kB)\n",
      "Requirement already satisfied: six<2,>=1.16.0 in /Users/qianruzhang/anaconda3/envs/dl4m/lib/python3.8/site-packages (from tensorflowjs) (1.16.0)\n",
      "Collecting tensorflow-hub>=0.14.0 (from tensorflowjs)\n",
      "  Downloading tensorflow_hub-0.16.1-py2.py3-none-any.whl.metadata (1.3 kB)\n",
      "Requirement already satisfied: packaging~=23.1 in /Users/qianruzhang/anaconda3/envs/dl4m/lib/python3.8/site-packages (from tensorflowjs) (23.2)\n",
      "Requirement already satisfied: numpy>=1.12 in /Users/qianruzhang/anaconda3/envs/dl4m/lib/python3.8/site-packages (from flax>=0.7.2->tensorflowjs) (1.24.3)\n",
      "Collecting msgpack (from flax>=0.7.2->tensorflowjs)\n",
      "  Downloading msgpack-1.0.7-cp38-cp38-macosx_10_9_x86_64.whl.metadata (9.1 kB)\n",
      "Collecting optax (from flax>=0.7.2->tensorflowjs)\n",
      "  Downloading optax-0.1.8-py3-none-any.whl.metadata (14 kB)\n",
      "Collecting orbax-checkpoint (from flax>=0.7.2->tensorflowjs)\n",
      "  Downloading orbax_checkpoint-0.2.3-py3-none-any.whl.metadata (1.8 kB)\n",
      "Collecting tensorstore (from flax>=0.7.2->tensorflowjs)\n",
      "  Downloading tensorstore-0.1.45-cp38-cp38-macosx_10_14_x86_64.whl.metadata (2.9 kB)\n",
      "Collecting rich>=11.1 (from flax>=0.7.2->tensorflowjs)\n",
      "  Using cached rich-13.7.0-py3-none-any.whl.metadata (18 kB)\n",
      "Requirement already satisfied: typing-extensions>=4.1.1 in /Users/qianruzhang/anaconda3/envs/dl4m/lib/python3.8/site-packages (from flax>=0.7.2->tensorflowjs) (4.5.0)\n",
      "Collecting PyYAML>=5.4.1 (from flax>=0.7.2->tensorflowjs)\n",
      "  Downloading PyYAML-6.0.1-cp38-cp38-macosx_10_9_x86_64.whl.metadata (2.1 kB)\n",
      "Requirement already satisfied: zipp>=3.1.0 in /Users/qianruzhang/anaconda3/envs/dl4m/lib/python3.8/site-packages (from importlib_resources>=5.9.0->tensorflowjs) (3.17.0)\n",
      "Collecting ml-dtypes>=0.1.0 (from jax>=0.4.13->tensorflowjs)\n",
      "  Downloading ml_dtypes-0.2.0-cp38-cp38-macosx_10_9_universal2.whl.metadata (20 kB)\n",
      "Requirement already satisfied: opt-einsum in /Users/qianruzhang/anaconda3/envs/dl4m/lib/python3.8/site-packages (from jax>=0.4.13->tensorflowjs) (3.3.0)\n",
      "Collecting scipy>=1.7 (from jax>=0.4.13->tensorflowjs)\n",
      "  Downloading scipy-1.10.1-cp38-cp38-macosx_10_9_x86_64.whl.metadata (53 kB)\n",
      "\u001b[2K     \u001b[90m━━━━━━━━━━━━━━━━━━━━━━━━━━━━━━━━━━━━━━━━\u001b[0m \u001b[32m53.9/53.9 kB\u001b[0m \u001b[31m1.7 MB/s\u001b[0m eta \u001b[36m0:00:00\u001b[0m\n",
      "\u001b[?25hRequirement already satisfied: importlib-metadata>=4.6 in /Users/qianruzhang/anaconda3/envs/dl4m/lib/python3.8/site-packages (from jax>=0.4.13->tensorflowjs) (7.0.1)\n",
      "Requirement already satisfied: absl-py>=1.0.0 in /Users/qianruzhang/anaconda3/envs/dl4m/lib/python3.8/site-packages (from tensorflow<3,>=2.13.0->tensorflowjs) (2.1.0)\n",
      "Requirement already satisfied: astunparse>=1.6.0 in /Users/qianruzhang/anaconda3/envs/dl4m/lib/python3.8/site-packages (from tensorflow<3,>=2.13.0->tensorflowjs) (1.6.3)\n",
      "Requirement already satisfied: flatbuffers>=23.1.21 in /Users/qianruzhang/anaconda3/envs/dl4m/lib/python3.8/site-packages (from tensorflow<3,>=2.13.0->tensorflowjs) (23.5.26)\n",
      "Requirement already satisfied: gast<=0.4.0,>=0.2.1 in /Users/qianruzhang/anaconda3/envs/dl4m/lib/python3.8/site-packages (from tensorflow<3,>=2.13.0->tensorflowjs) (0.4.0)\n",
      "Requirement already satisfied: google-pasta>=0.1.1 in /Users/qianruzhang/anaconda3/envs/dl4m/lib/python3.8/site-packages (from tensorflow<3,>=2.13.0->tensorflowjs) (0.2.0)\n",
      "Requirement already satisfied: h5py>=2.9.0 in /Users/qianruzhang/anaconda3/envs/dl4m/lib/python3.8/site-packages (from tensorflow<3,>=2.13.0->tensorflowjs) (3.10.0)\n",
      "Requirement already satisfied: libclang>=13.0.0 in /Users/qianruzhang/anaconda3/envs/dl4m/lib/python3.8/site-packages (from tensorflow<3,>=2.13.0->tensorflowjs) (16.0.6)\n",
      "Requirement already satisfied: protobuf!=4.21.0,!=4.21.1,!=4.21.2,!=4.21.3,!=4.21.4,!=4.21.5,<5.0.0dev,>=3.20.3 in /Users/qianruzhang/anaconda3/envs/dl4m/lib/python3.8/site-packages (from tensorflow<3,>=2.13.0->tensorflowjs) (4.25.3)\n",
      "Requirement already satisfied: setuptools in /Users/qianruzhang/anaconda3/envs/dl4m/lib/python3.8/site-packages (from tensorflow<3,>=2.13.0->tensorflowjs) (68.2.2)\n",
      "Requirement already satisfied: termcolor>=1.1.0 in /Users/qianruzhang/anaconda3/envs/dl4m/lib/python3.8/site-packages (from tensorflow<3,>=2.13.0->tensorflowjs) (2.4.0)\n",
      "Requirement already satisfied: wrapt>=1.11.0 in /Users/qianruzhang/anaconda3/envs/dl4m/lib/python3.8/site-packages (from tensorflow<3,>=2.13.0->tensorflowjs) (1.16.0)\n",
      "Requirement already satisfied: grpcio<2.0,>=1.24.3 in /Users/qianruzhang/anaconda3/envs/dl4m/lib/python3.8/site-packages (from tensorflow<3,>=2.13.0->tensorflowjs) (1.62.0)\n",
      "Requirement already satisfied: tensorboard<2.14,>=2.13 in /Users/qianruzhang/anaconda3/envs/dl4m/lib/python3.8/site-packages (from tensorflow<3,>=2.13.0->tensorflowjs) (2.13.0)\n",
      "Requirement already satisfied: tensorflow-estimator<2.14,>=2.13.0 in /Users/qianruzhang/anaconda3/envs/dl4m/lib/python3.8/site-packages (from tensorflow<3,>=2.13.0->tensorflowjs) (2.13.0)\n",
      "Requirement already satisfied: keras<2.14,>=2.13.1 in /Users/qianruzhang/anaconda3/envs/dl4m/lib/python3.8/site-packages (from tensorflow<3,>=2.13.0->tensorflowjs) (2.13.1)\n",
      "Requirement already satisfied: tensorflow-io-gcs-filesystem>=0.23.1 in /Users/qianruzhang/anaconda3/envs/dl4m/lib/python3.8/site-packages (from tensorflow<3,>=2.13.0->tensorflowjs) (0.34.0)\n",
      "Collecting pandas (from tensorflow-decision-forests>=1.5.0->tensorflowjs)\n",
      "  Using cached pandas-2.0.3-cp38-cp38-macosx_10_9_x86_64.whl.metadata (18 kB)\n",
      "Requirement already satisfied: wheel in /Users/qianruzhang/anaconda3/envs/dl4m/lib/python3.8/site-packages (from tensorflow-decision-forests>=1.5.0->tensorflowjs) (0.41.2)\n",
      "Collecting wurlitzer (from tensorflow-decision-forests>=1.5.0->tensorflowjs)\n",
      "  Downloading wurlitzer-3.0.3-py3-none-any.whl.metadata (1.9 kB)\n",
      "Collecting tf-keras>=2.14.1 (from tensorflow-hub>=0.14.0->tensorflowjs)\n",
      "  Downloading tf_keras-2.15.0-py3-none-any.whl.metadata (1.6 kB)\n",
      "Collecting markdown-it-py>=2.2.0 (from rich>=11.1->flax>=0.7.2->tensorflowjs)\n",
      "  Using cached markdown_it_py-3.0.0-py3-none-any.whl.metadata (6.9 kB)\n",
      "Requirement already satisfied: pygments<3.0.0,>=2.13.0 in /Users/qianruzhang/anaconda3/envs/dl4m/lib/python3.8/site-packages (from rich>=11.1->flax>=0.7.2->tensorflowjs) (2.17.2)\n",
      "Requirement already satisfied: google-auth<3,>=1.6.3 in /Users/qianruzhang/anaconda3/envs/dl4m/lib/python3.8/site-packages (from tensorboard<2.14,>=2.13->tensorflow<3,>=2.13.0->tensorflowjs) (2.28.1)\n",
      "Requirement already satisfied: google-auth-oauthlib<1.1,>=0.5 in /Users/qianruzhang/anaconda3/envs/dl4m/lib/python3.8/site-packages (from tensorboard<2.14,>=2.13->tensorflow<3,>=2.13.0->tensorflowjs) (1.0.0)\n",
      "Requirement already satisfied: markdown>=2.6.8 in /Users/qianruzhang/anaconda3/envs/dl4m/lib/python3.8/site-packages (from tensorboard<2.14,>=2.13->tensorflow<3,>=2.13.0->tensorflowjs) (3.5.2)\n",
      "Requirement already satisfied: requests<3,>=2.21.0 in /Users/qianruzhang/anaconda3/envs/dl4m/lib/python3.8/site-packages (from tensorboard<2.14,>=2.13->tensorflow<3,>=2.13.0->tensorflowjs) (2.31.0)\n",
      "Requirement already satisfied: tensorboard-data-server<0.8.0,>=0.7.0 in /Users/qianruzhang/anaconda3/envs/dl4m/lib/python3.8/site-packages (from tensorboard<2.14,>=2.13->tensorflow<3,>=2.13.0->tensorflowjs) (0.7.2)\n",
      "Requirement already satisfied: werkzeug>=1.0.1 in /Users/qianruzhang/anaconda3/envs/dl4m/lib/python3.8/site-packages (from tensorboard<2.14,>=2.13->tensorflow<3,>=2.13.0->tensorflowjs) (3.0.1)\n",
      "Collecting chex>=0.1.7 (from optax->flax>=0.7.2->tensorflowjs)\n",
      "  Downloading chex-0.1.7-py3-none-any.whl.metadata (17 kB)\n",
      "Collecting cached_property (from orbax-checkpoint->flax>=0.7.2->tensorflowjs)\n",
      "  Downloading cached_property-1.5.2-py2.py3-none-any.whl (7.6 kB)\n",
      "Collecting etils (from orbax-checkpoint->flax>=0.7.2->tensorflowjs)\n",
      "  Downloading etils-1.3.0-py3-none-any.whl.metadata (5.5 kB)\n",
      "Requirement already satisfied: nest_asyncio in /Users/qianruzhang/anaconda3/envs/dl4m/lib/python3.8/site-packages (from orbax-checkpoint->flax>=0.7.2->tensorflowjs) (1.6.0)\n",
      "Requirement already satisfied: python-dateutil>=2.8.2 in /Users/qianruzhang/anaconda3/envs/dl4m/lib/python3.8/site-packages (from pandas->tensorflow-decision-forests>=1.5.0->tensorflowjs) (2.8.2)\n",
      "Collecting pytz>=2020.1 (from pandas->tensorflow-decision-forests>=1.5.0->tensorflowjs)\n",
      "  Using cached pytz-2024.1-py2.py3-none-any.whl.metadata (22 kB)\n",
      "Collecting tzdata>=2022.1 (from pandas->tensorflow-decision-forests>=1.5.0->tensorflowjs)\n",
      "  Using cached tzdata-2024.1-py2.py3-none-any.whl.metadata (1.4 kB)\n",
      "Collecting dm-tree>=0.1.5 (from chex>=0.1.7->optax->flax>=0.7.2->tensorflowjs)\n",
      "  Downloading dm_tree-0.1.8-cp38-cp38-macosx_10_9_x86_64.whl.metadata (1.9 kB)\n",
      "Collecting toolz>=0.9.0 (from chex>=0.1.7->optax->flax>=0.7.2->tensorflowjs)\n",
      "  Downloading toolz-0.12.1-py3-none-any.whl.metadata (5.1 kB)\n",
      "Requirement already satisfied: cachetools<6.0,>=2.0.0 in /Users/qianruzhang/anaconda3/envs/dl4m/lib/python3.8/site-packages (from google-auth<3,>=1.6.3->tensorboard<2.14,>=2.13->tensorflow<3,>=2.13.0->tensorflowjs) (5.3.2)\n",
      "Requirement already satisfied: pyasn1-modules>=0.2.1 in /Users/qianruzhang/anaconda3/envs/dl4m/lib/python3.8/site-packages (from google-auth<3,>=1.6.3->tensorboard<2.14,>=2.13->tensorflow<3,>=2.13.0->tensorflowjs) (0.3.0)\n",
      "Requirement already satisfied: rsa<5,>=3.1.4 in /Users/qianruzhang/anaconda3/envs/dl4m/lib/python3.8/site-packages (from google-auth<3,>=1.6.3->tensorboard<2.14,>=2.13->tensorflow<3,>=2.13.0->tensorflowjs) (4.9)\n",
      "Requirement already satisfied: requests-oauthlib>=0.7.0 in /Users/qianruzhang/anaconda3/envs/dl4m/lib/python3.8/site-packages (from google-auth-oauthlib<1.1,>=0.5->tensorboard<2.14,>=2.13->tensorflow<3,>=2.13.0->tensorflowjs) (1.3.1)\n",
      "Collecting mdurl~=0.1 (from markdown-it-py>=2.2.0->rich>=11.1->flax>=0.7.2->tensorflowjs)\n",
      "  Using cached mdurl-0.1.2-py3-none-any.whl.metadata (1.6 kB)\n",
      "Requirement already satisfied: charset-normalizer<4,>=2 in /Users/qianruzhang/anaconda3/envs/dl4m/lib/python3.8/site-packages (from requests<3,>=2.21.0->tensorboard<2.14,>=2.13->tensorflow<3,>=2.13.0->tensorflowjs) (3.3.2)\n",
      "Requirement already satisfied: idna<4,>=2.5 in /Users/qianruzhang/anaconda3/envs/dl4m/lib/python3.8/site-packages (from requests<3,>=2.21.0->tensorboard<2.14,>=2.13->tensorflow<3,>=2.13.0->tensorflowjs) (3.6)\n",
      "Requirement already satisfied: urllib3<3,>=1.21.1 in /Users/qianruzhang/anaconda3/envs/dl4m/lib/python3.8/site-packages (from requests<3,>=2.21.0->tensorboard<2.14,>=2.13->tensorflow<3,>=2.13.0->tensorflowjs) (2.2.1)\n",
      "Requirement already satisfied: certifi>=2017.4.17 in /Users/qianruzhang/anaconda3/envs/dl4m/lib/python3.8/site-packages (from requests<3,>=2.21.0->tensorboard<2.14,>=2.13->tensorflow<3,>=2.13.0->tensorflowjs) (2024.2.2)\n",
      "Requirement already satisfied: MarkupSafe>=2.1.1 in /Users/qianruzhang/anaconda3/envs/dl4m/lib/python3.8/site-packages (from werkzeug>=1.0.1->tensorboard<2.14,>=2.13->tensorflow<3,>=2.13.0->tensorflowjs) (2.1.5)\n",
      "Requirement already satisfied: pyasn1<0.6.0,>=0.4.6 in /Users/qianruzhang/anaconda3/envs/dl4m/lib/python3.8/site-packages (from pyasn1-modules>=0.2.1->google-auth<3,>=1.6.3->tensorboard<2.14,>=2.13->tensorflow<3,>=2.13.0->tensorflowjs) (0.5.1)\n",
      "Requirement already satisfied: oauthlib>=3.0.0 in /Users/qianruzhang/anaconda3/envs/dl4m/lib/python3.8/site-packages (from requests-oauthlib>=0.7.0->google-auth-oauthlib<1.1,>=0.5->tensorboard<2.14,>=2.13->tensorflow<3,>=2.13.0->tensorflowjs) (3.2.2)\n",
      "Downloading tensorflowjs-4.17.0-py3-none-any.whl (89 kB)\n",
      "\u001b[2K   \u001b[90m━━━━━━━━━━━━━━━━━━━━━━━━━━━━━━━━━━━━━━━━\u001b[0m \u001b[32m89.1/89.1 kB\u001b[0m \u001b[31m2.9 MB/s\u001b[0m eta \u001b[36m0:00:00\u001b[0m\n",
      "\u001b[?25hDownloading flax-0.7.2-py3-none-any.whl (226 kB)\n",
      "\u001b[2K   \u001b[90m━━━━━━━━━━━━━━━━━━━━━━━━━━━━━━━━━━━━━━━━\u001b[0m \u001b[32m226.6/226.6 kB\u001b[0m \u001b[31m6.6 MB/s\u001b[0m eta \u001b[36m0:00:00\u001b[0m\n",
      "\u001b[?25hDownloading jaxlib-0.4.13-cp38-cp38-macosx_10_14_x86_64.whl (75.0 MB)\n",
      "\u001b[2K   \u001b[90m━━━━━━━━━━━━━━━━━━━━━━━━━━━━━━━━━━━━━━━━\u001b[0m \u001b[32m75.0/75.0 MB\u001b[0m \u001b[31m39.3 MB/s\u001b[0m eta \u001b[36m0:00:00\u001b[0m00:01\u001b[0m00:01\u001b[0m\n",
      "\u001b[?25hDownloading tensorflow_decision_forests-1.5.0-cp38-cp38-macosx_10_15_x86_64.whl (12.3 MB)\n",
      "\u001b[2K   \u001b[90m━━━━━━━━━━━━━━━━━━━━━━━━━━━━━━━━━━━━━━━━\u001b[0m \u001b[32m12.3/12.3 MB\u001b[0m \u001b[31m11.8 MB/s\u001b[0m eta \u001b[36m0:00:00\u001b[0m00:01\u001b[0m00:01\u001b[0m\n",
      "\u001b[?25hDownloading tensorflow_hub-0.16.1-py2.py3-none-any.whl (30 kB)\n",
      "Downloading ml_dtypes-0.2.0-cp38-cp38-macosx_10_9_universal2.whl (1.2 MB)\n",
      "\u001b[2K   \u001b[90m━━━━━━━━━━━━━━━━━━━━━━━━━━━━━━━━━━━━━━━━\u001b[0m \u001b[32m1.2/1.2 MB\u001b[0m \u001b[31m23.4 MB/s\u001b[0m eta \u001b[36m0:00:00\u001b[0m00:01\u001b[0m\n",
      "\u001b[?25hDownloading PyYAML-6.0.1-cp38-cp38-macosx_10_9_x86_64.whl (191 kB)\n",
      "\u001b[2K   \u001b[90m━━━━━━━━━━━━━━━━━━━━━━━━━━━━━━━━━━━━━━━━\u001b[0m \u001b[32m191.7/191.7 kB\u001b[0m \u001b[31m6.5 MB/s\u001b[0m eta \u001b[36m0:00:00\u001b[0m\n",
      "\u001b[?25hUsing cached rich-13.7.0-py3-none-any.whl (240 kB)\n",
      "Downloading scipy-1.10.1-cp38-cp38-macosx_10_9_x86_64.whl (35.0 MB)\n",
      "\u001b[2K   \u001b[90m━━━━━━━━━━━━━━━━━━━━━━━━━━━━━━━━━━━━━━━━\u001b[0m \u001b[32m35.0/35.0 MB\u001b[0m \u001b[31m52.4 MB/s\u001b[0m eta \u001b[36m0:00:00\u001b[0m00:01\u001b[0m00:01\u001b[0m\n",
      "\u001b[?25hDownloading tf_keras-2.15.0-py3-none-any.whl (1.7 MB)\n",
      "\u001b[2K   \u001b[90m━━━━━━━━━━━━━━━━━━━━━━━━━━━━━━━━━━━━━━━━\u001b[0m \u001b[32m1.7/1.7 MB\u001b[0m \u001b[31m30.8 MB/s\u001b[0m eta \u001b[36m0:00:00\u001b[0m:00:01\u001b[0m\n",
      "\u001b[?25hDownloading msgpack-1.0.7-cp38-cp38-macosx_10_9_x86_64.whl (234 kB)\n",
      "\u001b[2K   \u001b[90m━━━━━━━━━━━━━━━━━━━━━━━━━━━━━━━━━━━━━━━━\u001b[0m \u001b[32m234.5/234.5 kB\u001b[0m \u001b[31m7.5 MB/s\u001b[0m eta \u001b[36m0:00:00\u001b[0m\n",
      "\u001b[?25hDownloading optax-0.1.8-py3-none-any.whl (199 kB)\n",
      "\u001b[2K   \u001b[90m━━━━━━━━━━━━━━━━━━━━━━━━━━━━━━━━━━━━━━━━\u001b[0m \u001b[32m200.0/200.0 kB\u001b[0m \u001b[31m6.6 MB/s\u001b[0m eta \u001b[36m0:00:00\u001b[0m\n",
      "\u001b[?25hDownloading orbax_checkpoint-0.2.3-py3-none-any.whl (81 kB)\n",
      "\u001b[2K   \u001b[90m━━━━━━━━━━━━━━━━━━━━━━━━━━━━━━━━━━━━━━━━\u001b[0m \u001b[32m81.4/81.4 kB\u001b[0m \u001b[31m2.4 MB/s\u001b[0m eta \u001b[36m0:00:00\u001b[0m\n",
      "\u001b[?25hDownloading tensorstore-0.1.45-cp38-cp38-macosx_10_14_x86_64.whl (14.4 MB)\n",
      "\u001b[2K   \u001b[90m━━━━━━━━━━━━━━━━━━━━━━━━━━━━━━━━━━━━━━━━\u001b[0m \u001b[32m14.4/14.4 MB\u001b[0m \u001b[31m46.7 MB/s\u001b[0m eta \u001b[36m0:00:00\u001b[0m00:01\u001b[0m00:01\u001b[0m\n",
      "\u001b[?25hUsing cached pandas-2.0.3-cp38-cp38-macosx_10_9_x86_64.whl (11.7 MB)\n",
      "Downloading wurlitzer-3.0.3-py3-none-any.whl (7.3 kB)\n",
      "Downloading chex-0.1.7-py3-none-any.whl (89 kB)\n",
      "\u001b[2K   \u001b[90m━━━━━━━━━━━━━━━━━━━━━━━━━━━━━━━━━━━━━━━━\u001b[0m \u001b[32m89.6/89.6 kB\u001b[0m \u001b[31m2.9 MB/s\u001b[0m eta \u001b[36m0:00:00\u001b[0m\n",
      "\u001b[?25hUsing cached markdown_it_py-3.0.0-py3-none-any.whl (87 kB)\n",
      "Using cached pytz-2024.1-py2.py3-none-any.whl (505 kB)\n",
      "Using cached tzdata-2024.1-py2.py3-none-any.whl (345 kB)\n",
      "Downloading etils-1.3.0-py3-none-any.whl (126 kB)\n",
      "\u001b[2K   \u001b[90m━━━━━━━━━━━━━━━━━━━━━━━━━━━━━━━━━━━━━━━━\u001b[0m \u001b[32m126.4/126.4 kB\u001b[0m \u001b[31m3.8 MB/s\u001b[0m eta \u001b[36m0:00:00\u001b[0m\n",
      "\u001b[?25hDownloading dm_tree-0.1.8-cp38-cp38-macosx_10_9_x86_64.whl (115 kB)\n",
      "\u001b[2K   \u001b[90m━━━━━━━━━━━━━━━━━━━━━━━━━━━━━━━━━━━━━━━━\u001b[0m \u001b[32m115.4/115.4 kB\u001b[0m \u001b[31m3.5 MB/s\u001b[0m eta \u001b[36m0:00:00\u001b[0m\n",
      "\u001b[?25hUsing cached mdurl-0.1.2-py3-none-any.whl (10.0 kB)\n",
      "Downloading toolz-0.12.1-py3-none-any.whl (56 kB)\n",
      "\u001b[2K   \u001b[90m━━━━━━━━━━━━━━━━━━━━━━━━━━━━━━━━━━━━━━━━\u001b[0m \u001b[32m56.1/56.1 kB\u001b[0m \u001b[31m1.6 MB/s\u001b[0m eta \u001b[36m0:00:00\u001b[0m\n",
      "\u001b[?25hBuilding wheels for collected packages: jax\n",
      "  Building wheel for jax (pyproject.toml) ... \u001b[?25ldone\n",
      "\u001b[?25h  Created wheel for jax: filename=jax-0.4.13-py3-none-any.whl size=1518703 sha256=230e100621d510bd6f2bebcba7187c1be6e8cc5fd859aafbd7dd73f25d3be9a2\n",
      "  Stored in directory: /Users/qianruzhang/Library/Caches/pip/wheels/46/d9/15/d2800d4089dc4c77299ac7513c6aa1036f5491edbd2bf6ba16\n",
      "Successfully built jax\n",
      "Installing collected packages: pytz, dm-tree, cached_property, wurlitzer, tzdata, toolz, tf-keras, tensorstore, scipy, PyYAML, msgpack, ml-dtypes, mdurl, etils, tensorflow-hub, pandas, markdown-it-py, jaxlib, jax, rich, orbax-checkpoint, chex, optax, flax, tensorflow-decision-forests, tensorflowjs\n",
      "Successfully installed PyYAML-6.0.1 cached_property-1.5.2 chex-0.1.7 dm-tree-0.1.8 etils-1.3.0 flax-0.7.2 jax-0.4.13 jaxlib-0.4.13 markdown-it-py-3.0.0 mdurl-0.1.2 ml-dtypes-0.2.0 msgpack-1.0.7 optax-0.1.8 orbax-checkpoint-0.2.3 pandas-2.0.3 pytz-2024.1 rich-13.7.0 scipy-1.10.1 tensorflow-decision-forests-1.5.0 tensorflow-hub-0.16.1 tensorflowjs-4.17.0 tensorstore-0.1.45 tf-keras-2.15.0 toolz-0.12.1 tzdata-2024.1 wurlitzer-3.0.3\n",
      "Note: you may need to restart the kernel to use updated packages.\n"
     ]
    }
   ],
   "source": [
    "%pip install tensorflowjs"
   ]
  },
  {
   "cell_type": "code",
   "execution_count": 24,
   "metadata": {},
   "outputs": [
    {
     "name": "stdout",
     "output_type": "stream",
     "text": [
      "2024-02-25 23:36:57.196031: I tensorflow/core/platform/cpu_feature_guard.cc:182] This TensorFlow binary is optimized to use available CPU instructions in performance-critical operations.\n",
      "To enable the following instructions: AVX2 FMA, in other operations, rebuild TensorFlow with the appropriate compiler flags.\n",
      "WARNING:root:TensorFlow Decision Forests 1.5.0 is compatible with the following TensorFlow Versions: ['2.13.0']. However, TensorFlow 2.13.1 was detected. This can cause issues with the TF API and symbols in the custom C++ ops. See the TF and TF-DF compatibility table at https://github.com/tensorflow/decision-forests/blob/main/documentation/known_issues.md#compatibility-table.\n",
      "2024-02-25 23:37:00.094342: I tensorflow/core/grappler/devices.cc:75] Number of eligible GPUs (core count >= 8, compute capability >= 0.0): 0 (Note: TensorFlow was not compiled with CUDA or ROCm support)\n"
     ]
    }
   ],
   "source": [
    "!tensorflowjs_converter \\\n",
    "    --input_format=tf_saved_model \\\n",
    "    --output_format=tfjs_graph_model \\\n",
    "    --saved_model_tags=serve \\\n",
    "    /Users/qianruzhang/Documents/GitHub/Machine-Learning-ML5/Week4-Real-Time-Posture-Recognition/Handpose-Recognition\\\n",
    "    /Users/qianruzhang/Documents/GitHub/Machine-Learning-ML5/Week4-Real-Time-Posture-Recognition/tfjsmodel\n"
   ]
  }
 ],
 "metadata": {
  "kernelspec": {
   "display_name": "base",
   "language": "python",
   "name": "python3"
  },
  "language_info": {
   "codemirror_mode": {
    "name": "ipython",
    "version": 3
   },
   "file_extension": ".py",
   "mimetype": "text/x-python",
   "name": "python",
   "nbconvert_exporter": "python",
   "pygments_lexer": "ipython3",
   "version": "3.8.18"
  }
 },
 "nbformat": 4,
 "nbformat_minor": 2
}
