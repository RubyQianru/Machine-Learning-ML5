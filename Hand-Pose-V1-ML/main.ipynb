{
 "cells": [
  {
   "cell_type": "code",
   "execution_count": 1,
   "metadata": {},
   "outputs": [
    {
     "name": "stderr",
     "output_type": "stream",
     "text": [
      "2024-05-03 12:48:25.655313: I tensorflow/core/platform/cpu_feature_guard.cc:182] This TensorFlow binary is optimized to use available CPU instructions in performance-critical operations.\n",
      "To enable the following instructions: AVX2 FMA, in other operations, rebuild TensorFlow with the appropriate compiler flags.\n"
     ]
    }
   ],
   "source": [
    "import utils as u "
   ]
  },
  {
   "cell_type": "code",
   "execution_count": 2,
   "metadata": {},
   "outputs": [
    {
     "name": "stdout",
     "output_type": "stream",
     "text": [
      "[1 5 4 ... 4 0 5]\n"
     ]
    }
   ],
   "source": [
    "file_paths = [\n",
    "    \"data/data1.json\", # Hand pose labels\n",
    "    \"data/data2.json\", # Hand poses to be distinguished from the triggering hand poses.\n",
    "    \"data/data3.json\", # Hand poses to be distinguished from the triggering hand poses.\n",
    "    \"data/data4.json\", # Hand pose detection mistakes (noses) to be distinguished from the triggering hand poses.\n",
    "    \"data/data5.json\", # Hand pose detection pondering to be distinguished from the heart.\n",
    "    \"data/data6.json\", # Hand pose detection pondering to be distinguished from the heart.\n",
    "    \"data/data7.json\", # Hand pose detection pondering to be distinguished from the heart.\n",
    "    \"data/data8.json\", \n",
    "    \"data/data9.json\", \n",
    "    ]\n",
    "\n",
    "x_train, y_train, x_test, y_test = u.load_data(file_paths, random_seed=2) "
   ]
  },
  {
   "cell_type": "code",
   "execution_count": 3,
   "metadata": {},
   "outputs": [
    {
     "name": "stdout",
     "output_type": "stream",
     "text": [
      "(8265, 63) (8265,) (2067, 63) (2067,)\n"
     ]
    }
   ],
   "source": [
    "print(x_train.shape, y_train.shape, x_test.shape, y_test.shape)"
   ]
  },
  {
   "cell_type": "code",
   "execution_count": 4,
   "metadata": {},
   "outputs": [],
   "source": [
    "x_train, y_train, x_val, y_val, x_test, y_test = u.preprocess_data(x_train, \n",
    "                                                                 y_train, \n",
    "                                                                 x_test, \n",
    "                                                                 y_test)"
   ]
  },
  {
   "cell_type": "code",
   "execution_count": 5,
   "metadata": {},
   "outputs": [
    {
     "name": "stdout",
     "output_type": "stream",
     "text": [
      "(7439, 63) (7439,) (2067, 63) (2067,)\n"
     ]
    }
   ],
   "source": [
    "print(x_train.shape, y_train.shape, x_test.shape, y_test.shape)"
   ]
  },
  {
   "cell_type": "code",
   "execution_count": 6,
   "metadata": {},
   "outputs": [
    {
     "name": "stdout",
     "output_type": "stream",
     "text": [
      "2\n",
      "0.9988063\n",
      "-0.21653211\n",
      "2\n",
      "0.9958083\n",
      "-0.16142292\n"
     ]
    }
   ],
   "source": [
    "print(len(x_train.shape))\n",
    "print(x_train.max())\n",
    "print(x_train.min())\n",
    "\n",
    "print(len(x_test.shape))\n",
    "print(x_test.max())\n",
    "print(x_test.min())"
   ]
  },
  {
   "cell_type": "code",
   "execution_count": 7,
   "metadata": {},
   "outputs": [],
   "source": [
    "model = u.build_model()\n"
   ]
  },
  {
   "cell_type": "code",
   "execution_count": 8,
   "metadata": {},
   "outputs": [
    {
     "name": "stdout",
     "output_type": "stream",
     "text": [
      "Epoch 1/30\n",
      "117/117 [==============================] - 1s 3ms/step - loss: 1.6605 - accuracy: 0.3925 - val_loss: 1.5084 - val_accuracy: 0.5763\n",
      "Epoch 2/30\n",
      "117/117 [==============================] - 0s 1ms/step - loss: 1.3303 - accuracy: 0.6161 - val_loss: 1.1886 - val_accuracy: 0.6731\n",
      "Epoch 3/30\n",
      "117/117 [==============================] - 0s 1ms/step - loss: 1.0271 - accuracy: 0.6853 - val_loss: 0.9433 - val_accuracy: 0.7119\n",
      "Epoch 4/30\n",
      "117/117 [==============================] - 0s 1ms/step - loss: 0.8166 - accuracy: 0.7387 - val_loss: 0.7775 - val_accuracy: 0.7421\n",
      "Epoch 5/30\n",
      "117/117 [==============================] - 0s 1ms/step - loss: 0.6739 - accuracy: 0.7802 - val_loss: 0.6603 - val_accuracy: 0.7893\n",
      "Epoch 6/30\n",
      "117/117 [==============================] - 0s 1ms/step - loss: 0.5691 - accuracy: 0.8242 - val_loss: 0.5719 - val_accuracy: 0.8366\n",
      "Epoch 7/30\n",
      "117/117 [==============================] - 0s 1ms/step - loss: 0.4897 - accuracy: 0.8676 - val_loss: 0.5070 - val_accuracy: 0.8753\n",
      "Epoch 8/30\n",
      "117/117 [==============================] - 0s 1ms/step - loss: 0.4252 - accuracy: 0.9040 - val_loss: 0.4477 - val_accuracy: 0.8874\n",
      "Epoch 9/30\n",
      "117/117 [==============================] - 0s 1ms/step - loss: 0.3728 - accuracy: 0.9212 - val_loss: 0.3986 - val_accuracy: 0.9056\n",
      "Epoch 10/30\n",
      "117/117 [==============================] - 0s 1ms/step - loss: 0.3284 - accuracy: 0.9345 - val_loss: 0.3588 - val_accuracy: 0.9189\n",
      "Epoch 11/30\n",
      "117/117 [==============================] - 0s 1ms/step - loss: 0.2926 - accuracy: 0.9409 - val_loss: 0.3256 - val_accuracy: 0.9249\n",
      "Epoch 12/30\n",
      "117/117 [==============================] - 0s 1ms/step - loss: 0.2624 - accuracy: 0.9486 - val_loss: 0.3028 - val_accuracy: 0.9370\n",
      "Epoch 13/30\n",
      "117/117 [==============================] - 0s 1ms/step - loss: 0.2378 - accuracy: 0.9523 - val_loss: 0.2736 - val_accuracy: 0.9346\n",
      "Epoch 14/30\n",
      "117/117 [==============================] - 0s 2ms/step - loss: 0.2160 - accuracy: 0.9552 - val_loss: 0.2522 - val_accuracy: 0.9298\n",
      "Epoch 15/30\n",
      "117/117 [==============================] - 0s 1ms/step - loss: 0.1981 - accuracy: 0.9590 - val_loss: 0.2347 - val_accuracy: 0.9358\n",
      "Epoch 16/30\n",
      "117/117 [==============================] - 0s 1ms/step - loss: 0.1823 - accuracy: 0.9609 - val_loss: 0.2226 - val_accuracy: 0.9298\n",
      "Epoch 17/30\n",
      "117/117 [==============================] - 0s 2ms/step - loss: 0.1693 - accuracy: 0.9637 - val_loss: 0.2081 - val_accuracy: 0.9419\n",
      "Epoch 18/30\n",
      "117/117 [==============================] - 0s 1ms/step - loss: 0.1579 - accuracy: 0.9648 - val_loss: 0.1948 - val_accuracy: 0.9443\n",
      "Epoch 19/30\n",
      "117/117 [==============================] - 0s 2ms/step - loss: 0.1477 - accuracy: 0.9673 - val_loss: 0.1843 - val_accuracy: 0.9443\n",
      "Epoch 20/30\n",
      "117/117 [==============================] - 0s 2ms/step - loss: 0.1384 - accuracy: 0.9675 - val_loss: 0.1732 - val_accuracy: 0.9467\n",
      "Epoch 21/30\n",
      "117/117 [==============================] - 0s 2ms/step - loss: 0.1316 - accuracy: 0.9708 - val_loss: 0.1659 - val_accuracy: 0.9576\n",
      "Epoch 22/30\n",
      "117/117 [==============================] - 0s 1ms/step - loss: 0.1237 - accuracy: 0.9715 - val_loss: 0.1572 - val_accuracy: 0.9625\n",
      "Epoch 23/30\n",
      "117/117 [==============================] - 0s 1ms/step - loss: 0.1175 - accuracy: 0.9724 - val_loss: 0.1575 - val_accuracy: 0.9479\n",
      "Epoch 24/30\n",
      "117/117 [==============================] - 0s 1ms/step - loss: 0.1113 - accuracy: 0.9749 - val_loss: 0.1451 - val_accuracy: 0.9697\n",
      "Epoch 25/30\n",
      "117/117 [==============================] - 0s 1ms/step - loss: 0.1067 - accuracy: 0.9755 - val_loss: 0.1395 - val_accuracy: 0.9685\n",
      "Epoch 26/30\n",
      "117/117 [==============================] - 0s 1ms/step - loss: 0.1022 - accuracy: 0.9766 - val_loss: 0.1329 - val_accuracy: 0.9709\n",
      "Epoch 27/30\n",
      "117/117 [==============================] - 0s 2ms/step - loss: 0.0968 - accuracy: 0.9794 - val_loss: 0.1320 - val_accuracy: 0.9758\n",
      "Epoch 28/30\n",
      "117/117 [==============================] - 0s 1ms/step - loss: 0.0941 - accuracy: 0.9802 - val_loss: 0.1250 - val_accuracy: 0.9722\n",
      "Epoch 29/30\n",
      "117/117 [==============================] - 0s 1ms/step - loss: 0.0899 - accuracy: 0.9813 - val_loss: 0.1248 - val_accuracy: 0.9722\n",
      "Epoch 30/30\n",
      "117/117 [==============================] - 0s 1ms/step - loss: 0.0857 - accuracy: 0.9823 - val_loss: 0.1156 - val_accuracy: 0.9782\n"
     ]
    }
   ],
   "source": [
    "history = u.train_model(model, x_train, y_train, x_val, y_val, \n",
    "                      epochs=30, batch_size=64)"
   ]
  },
  {
   "cell_type": "code",
   "execution_count": 9,
   "metadata": {},
   "outputs": [
    {
     "data": {
      "image/png": "[encoded data removed]",
      "text/plain": [
       "<Figure size 1000x500 with 2 Axes>"
      ]
     },
     "metadata": {},
     "output_type": "display_data"
    }
   ],
   "source": [
    "u.plot_loss(history)"
   ]
  },
  {
   "cell_type": "code",
   "execution_count": 10,
   "metadata": {},
   "outputs": [
    {
     "name": "stdout",
     "output_type": "stream",
     "text": [
      "65/65 [==============================] - 0s 840us/step\n",
      "[[1.3733973e-02 5.9764065e-02 5.9416094e-03 5.2919169e-04 9.2000133e-01\n",
      "  2.9859040e-05]\n",
      " [5.1887118e-04 1.5943472e-11 7.8833253e-08 9.9947685e-01 4.6540347e-07\n",
      "  3.6116146e-06]\n",
      " [1.5202186e-04 7.7233417e-04 9.9905497e-01 7.4106348e-09 9.7157408e-07\n",
      "  1.9801681e-05]\n",
      " ...\n",
      " [1.0722489e-03 1.4656940e-02 2.1948863e-03 1.1957324e-06 9.7938287e-01\n",
      "  2.6919572e-03]\n",
      " [8.8558358e-01 7.4905652e-04 2.0525608e-02 7.2590739e-02 4.3304609e-03\n",
      "  1.6220627e-02]\n",
      " [4.6532579e-02 5.4912207e-06 5.5094361e-03 3.3713452e-04 7.3815499e-05\n",
      "  9.4754153e-01]]\n",
      "65/65 [==============================] - 0s 2ms/step - loss: 0.1006 - accuracy: 0.9768\n",
      "[4 3 2 ... 4 0 5]\n"
     ]
    }
   ],
   "source": [
    "test_acc, y_pred = u.test_model(model, x_test, y_test)\n",
    "print(y_pred)"
   ]
  },
  {
   "cell_type": "code",
   "execution_count": 11,
   "metadata": {},
   "outputs": [],
   "source": [
    "model.save('./Handpose-Recognition.keras')"
   ]
  },
  {
   "cell_type": "code",
   "execution_count": 12,
   "metadata": {},
   "outputs": [
    {
     "name": "stdout",
     "output_type": "stream",
     "text": [
      "0.9767779111862183\n"
     ]
    }
   ],
   "source": [
    "print(test_acc)"
   ]
  },
  {
   "cell_type": "code",
   "execution_count": 13,
   "metadata": {},
   "outputs": [
    {
     "name": "stdout",
     "output_type": "stream",
     "text": [
      "Model: \"sequential\"\n",
      "_________________________________________________________________\n",
      " Layer (type)                Output Shape              Param #   \n",
      "=================================================================\n",
      " dense (Dense)               (None, 32)                2048      \n",
      "                                                                 \n",
      " dense_1 (Dense)             (None, 6)                 198       \n",
      "                                                                 \n",
      "=================================================================\n",
      "Total params: 2246 (8.77 KB)\n",
      "Trainable params: 2246 (8.77 KB)\n",
      "Non-trainable params: 0 (0.00 Byte)\n",
      "_________________________________________________________________\n"
     ]
    }
   ],
   "source": [
    "model.summary()"
   ]
  },
  {
   "cell_type": "code",
   "execution_count": 14,
   "metadata": {},
   "outputs": [
    {
     "name": "stdout",
     "output_type": "stream",
     "text": [
      "WARNING:root:TensorFlow Decision Forests 1.5.0 is compatible with the following TensorFlow Versions: ['2.13.0']. However, TensorFlow 2.13.1 was detected. This can cause issues with the TF API and symbols in the custom C++ ops. See the TF and TF-DF compatibility table at https://github.com/tensorflow/decision-forests/blob/main/documentation/known_issues.md#compatibility-table.\n",
      "WARNING:tensorflow:Compiled the loaded model, but the compiled metrics have yet to be built. `model.compile_metrics` will be empty until you train or evaluate the model.\n",
      "WARNING:tensorflow:Compiled the loaded model, but the compiled metrics have yet to be built. `model.compile_metrics` will be empty until you train or evaluate the model.\n"
     ]
    }
   ],
   "source": [
    "!tensorflowjs_converter \\\n",
    "    --input_format=keras \\\n",
    "    --output_format=tfjs_graph_model \\\n",
    "    --saved_model_tags=serve \\\n",
    "    /Users/qianruzhang/Documents/GitHub/Machine-Learning-TFJS/Hand-Pose-V1-ML/Handpose-Recognition.keras  \\\n",
    "    /Users/qianruzhang/Documents/GitHub/Machine-Learning-TFJS/Hand-Pose-V1-ML/tfjsmodel\n"
   ]
  }
 ],
 "metadata": {
  "kernelspec": {
   "display_name": "base",
   "language": "python",
   "name": "python3"
  },
  "language_info": {
   "codemirror_mode": {
    "name": "ipython",
    "version": 3
   },
   "file_extension": ".py",
   "mimetype": "text/x-python",
   "name": "python",
   "nbconvert_exporter": "python",
   "pygments_lexer": "ipython3",
   "version": "3.8.18"
  }
 },
 "nbformat": 4,
 "nbformat_minor": 2
}
