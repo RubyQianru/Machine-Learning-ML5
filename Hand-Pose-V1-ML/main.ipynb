{
 "cells": [
  {
   "cell_type": "code",
   "execution_count": 1,
   "metadata": {},
   "outputs": [
    {
     "name": "stderr",
     "output_type": "stream",
     "text": [
      "2024-05-03 10:57:37.347440: I tensorflow/core/platform/cpu_feature_guard.cc:182] This TensorFlow binary is optimized to use available CPU instructions in performance-critical operations.\n",
      "To enable the following instructions: AVX2 FMA, in other operations, rebuild TensorFlow with the appropriate compiler flags.\n"
     ]
    }
   ],
   "source": [
    "import utils as u "
   ]
  },
  {
   "cell_type": "code",
   "execution_count": 2,
   "metadata": {},
   "outputs": [
    {
     "name": "stdout",
     "output_type": "stream",
     "text": [
      "[2 1 4 ... 2 4 0]\n"
     ]
    }
   ],
   "source": [
    "file_paths = [\n",
    "    \"data/data1.json\", # Hand pose labels\n",
    "    \"data/data2.json\", # Hand poses to be distinguished from the triggering hand poses.\n",
    "    \"data/data3.json\", # Hand poses to be distinguished from the triggering hand poses.\n",
    "    ]\n",
    "\n",
    "x_train, y_train, x_test, y_test = u.load_data(file_paths, random_seed=2) "
   ]
  },
  {
   "cell_type": "code",
   "execution_count": 3,
   "metadata": {},
   "outputs": [
    {
     "name": "stdout",
     "output_type": "stream",
     "text": [
      "(4736, 63) (4736,) (1185, 63) (1185,)\n"
     ]
    }
   ],
   "source": [
    "print(x_train.shape, y_train.shape, x_test.shape, y_test.shape)"
   ]
  },
  {
   "cell_type": "code",
   "execution_count": 4,
   "metadata": {},
   "outputs": [],
   "source": [
    "x_train, y_train, x_val, y_val, x_test, y_test = u.preprocess_data(x_train, \n",
    "                                                                 y_train, \n",
    "                                                                 x_test, \n",
    "                                                                 y_test)"
   ]
  },
  {
   "cell_type": "code",
   "execution_count": 5,
   "metadata": {},
   "outputs": [
    {
     "name": "stdout",
     "output_type": "stream",
     "text": [
      "(4263, 63) (4263,) (1185, 63) (1185,)\n"
     ]
    }
   ],
   "source": [
    "print(x_train.shape, y_train.shape, x_test.shape, y_test.shape)"
   ]
  },
  {
   "cell_type": "code",
   "execution_count": 6,
   "metadata": {},
   "outputs": [
    {
     "name": "stdout",
     "output_type": "stream",
     "text": [
      "2\n",
      "1.0007992\n",
      "-0.21653211\n",
      "2\n",
      "0.9958083\n",
      "-0.17719933\n"
     ]
    }
   ],
   "source": [
    "print(len(x_train.shape))\n",
    "print(x_train.max())\n",
    "print(x_train.min())\n",
    "\n",
    "print(len(x_test.shape))\n",
    "print(x_test.max())\n",
    "print(x_test.min())"
   ]
  },
  {
   "cell_type": "code",
   "execution_count": 7,
   "metadata": {},
   "outputs": [],
   "source": [
    "model = u.build_model()\n"
   ]
  },
  {
   "cell_type": "code",
   "execution_count": 8,
   "metadata": {},
   "outputs": [
    {
     "name": "stdout",
     "output_type": "stream",
     "text": [
      "Epoch 1/30\n",
      "67/67 [==============================] - 1s 6ms/step - loss: 1.5235 - accuracy: 0.2573 - val_loss: 1.4546 - val_accuracy: 0.3763\n",
      "Epoch 2/30\n",
      "67/67 [==============================] - 0s 3ms/step - loss: 1.3604 - accuracy: 0.4837 - val_loss: 1.2971 - val_accuracy: 0.5011\n",
      "Epoch 3/30\n",
      "67/67 [==============================] - 0s 2ms/step - loss: 1.1949 - accuracy: 0.6573 - val_loss: 1.1347 - val_accuracy: 0.7696\n",
      "Epoch 4/30\n",
      "67/67 [==============================] - 0s 2ms/step - loss: 1.0332 - accuracy: 0.7786 - val_loss: 0.9791 - val_accuracy: 0.8076\n",
      "Epoch 5/30\n",
      "67/67 [==============================] - 0s 2ms/step - loss: 0.8938 - accuracy: 0.8196 - val_loss: 0.8550 - val_accuracy: 0.8203\n",
      "Epoch 6/30\n",
      "67/67 [==============================] - 0s 3ms/step - loss: 0.7776 - accuracy: 0.8517 - val_loss: 0.7495 - val_accuracy: 0.8520\n",
      "Epoch 7/30\n",
      "67/67 [==============================] - 0s 3ms/step - loss: 0.6853 - accuracy: 0.8792 - val_loss: 0.6540 - val_accuracy: 0.8647\n",
      "Epoch 8/30\n",
      "67/67 [==============================] - 0s 2ms/step - loss: 0.6027 - accuracy: 0.9001 - val_loss: 0.5827 - val_accuracy: 0.8879\n",
      "Epoch 9/30\n",
      "67/67 [==============================] - 0s 2ms/step - loss: 0.5342 - accuracy: 0.9158 - val_loss: 0.5207 - val_accuracy: 0.9112\n",
      "Epoch 10/30\n",
      "67/67 [==============================] - 0s 3ms/step - loss: 0.4751 - accuracy: 0.9306 - val_loss: 0.4650 - val_accuracy: 0.9218\n",
      "Epoch 11/30\n",
      "67/67 [==============================] - 0s 3ms/step - loss: 0.4250 - accuracy: 0.9404 - val_loss: 0.4179 - val_accuracy: 0.9218\n",
      "Epoch 12/30\n",
      "67/67 [==============================] - 0s 2ms/step - loss: 0.3823 - accuracy: 0.9463 - val_loss: 0.3769 - val_accuracy: 0.9408\n",
      "Epoch 13/30\n",
      "67/67 [==============================] - 0s 2ms/step - loss: 0.3449 - accuracy: 0.9489 - val_loss: 0.3443 - val_accuracy: 0.9345\n",
      "Epoch 14/30\n",
      "67/67 [==============================] - 0s 2ms/step - loss: 0.3125 - accuracy: 0.9540 - val_loss: 0.3193 - val_accuracy: 0.9366\n",
      "Epoch 15/30\n",
      "67/67 [==============================] - 0s 2ms/step - loss: 0.2841 - accuracy: 0.9566 - val_loss: 0.2884 - val_accuracy: 0.9450\n",
      "Epoch 16/30\n",
      "67/67 [==============================] - 0s 2ms/step - loss: 0.2609 - accuracy: 0.9578 - val_loss: 0.2724 - val_accuracy: 0.9493\n",
      "Epoch 17/30\n",
      "67/67 [==============================] - 0s 2ms/step - loss: 0.2399 - accuracy: 0.9604 - val_loss: 0.2493 - val_accuracy: 0.9471\n",
      "Epoch 18/30\n",
      "67/67 [==============================] - 0s 3ms/step - loss: 0.2220 - accuracy: 0.9625 - val_loss: 0.2363 - val_accuracy: 0.9514\n",
      "Epoch 19/30\n",
      "67/67 [==============================] - 0s 2ms/step - loss: 0.2049 - accuracy: 0.9646 - val_loss: 0.2198 - val_accuracy: 0.9535\n",
      "Epoch 20/30\n",
      "67/67 [==============================] - 0s 2ms/step - loss: 0.1911 - accuracy: 0.9660 - val_loss: 0.2029 - val_accuracy: 0.9556\n",
      "Epoch 21/30\n",
      "67/67 [==============================] - 0s 2ms/step - loss: 0.1782 - accuracy: 0.9669 - val_loss: 0.1930 - val_accuracy: 0.9577\n",
      "Epoch 22/30\n",
      "67/67 [==============================] - 0s 2ms/step - loss: 0.1693 - accuracy: 0.9681 - val_loss: 0.1834 - val_accuracy: 0.9577\n",
      "Epoch 23/30\n",
      "67/67 [==============================] - 0s 2ms/step - loss: 0.1574 - accuracy: 0.9709 - val_loss: 0.1739 - val_accuracy: 0.9598\n",
      "Epoch 24/30\n",
      "67/67 [==============================] - 0s 3ms/step - loss: 0.1487 - accuracy: 0.9721 - val_loss: 0.1716 - val_accuracy: 0.9577\n",
      "Epoch 25/30\n",
      "67/67 [==============================] - 0s 3ms/step - loss: 0.1405 - accuracy: 0.9733 - val_loss: 0.1586 - val_accuracy: 0.9619\n",
      "Epoch 26/30\n",
      "67/67 [==============================] - 0s 2ms/step - loss: 0.1332 - accuracy: 0.9765 - val_loss: 0.1644 - val_accuracy: 0.9556\n",
      "Epoch 27/30\n",
      "67/67 [==============================] - 0s 2ms/step - loss: 0.1266 - accuracy: 0.9772 - val_loss: 0.1483 - val_accuracy: 0.9619\n",
      "Epoch 28/30\n",
      "67/67 [==============================] - 0s 2ms/step - loss: 0.1204 - accuracy: 0.9770 - val_loss: 0.1549 - val_accuracy: 0.9535\n",
      "Epoch 29/30\n",
      "67/67 [==============================] - 0s 2ms/step - loss: 0.1159 - accuracy: 0.9784 - val_loss: 0.1363 - val_accuracy: 0.9662\n",
      "Epoch 30/30\n",
      "67/67 [==============================] - 0s 3ms/step - loss: 0.1099 - accuracy: 0.9789 - val_loss: 0.1275 - val_accuracy: 0.9683\n"
     ]
    }
   ],
   "source": [
    "history = u.train_model(model, x_train, y_train, x_val, y_val, \n",
    "                      epochs=30, batch_size=64)"
   ]
  },
  {
   "cell_type": "code",
   "execution_count": 9,
   "metadata": {},
   "outputs": [
    {
     "data": {
      "image/png": "[encoded data removed]",
      "text/plain": [
       "<Figure size 1000x500 with 2 Axes>"
      ]
     },
     "metadata": {},
     "output_type": "display_data"
    }
   ],
   "source": [
    "u.plot_loss(history)"
   ]
  },
  {
   "cell_type": "code",
   "execution_count": 10,
   "metadata": {},
   "outputs": [
    {
     "name": "stdout",
     "output_type": "stream",
     "text": [
      "38/38 [==============================] - 0s 2ms/step\n",
      "[[2.90638790e-03 4.22929786e-03 2.54111495e-02 1.52073172e-03\n",
      "  9.65932429e-01]\n",
      " [9.41911697e-01 2.50957091e-04 1.06249508e-02 4.60143127e-02\n",
      "  1.19805685e-03]\n",
      " [6.08451255e-02 2.54853349e-02 9.05901968e-01 5.11599123e-04\n",
      "  7.25593558e-03]\n",
      " ...\n",
      " [7.04461560e-02 1.24455495e-02 9.08522189e-01 5.85624250e-04\n",
      "  8.00045580e-03]\n",
      " [1.17764119e-02 4.10961471e-02 2.84972601e-02 5.06450073e-04\n",
      "  9.18123662e-01]\n",
      " [8.58509421e-01 1.66646426e-03 3.48507240e-02 9.33088139e-02\n",
      "  1.16646141e-02]]\n",
      "38/38 [==============================] - 0s 2ms/step - loss: 0.1162 - accuracy: 0.9789\n",
      "[4 0 2 ... 2 4 0]\n"
     ]
    }
   ],
   "source": [
    "test_acc, y_pred = u.test_model(model, x_test, y_test)\n",
    "print(y_pred)"
   ]
  },
  {
   "cell_type": "code",
   "execution_count": 11,
   "metadata": {},
   "outputs": [],
   "source": [
    "model.save('./Handpose-Recognition.keras')"
   ]
  },
  {
   "cell_type": "code",
   "execution_count": 12,
   "metadata": {},
   "outputs": [
    {
     "name": "stdout",
     "output_type": "stream",
     "text": [
      "0.9789029359817505\n"
     ]
    }
   ],
   "source": [
    "print(test_acc)"
   ]
  },
  {
   "cell_type": "code",
   "execution_count": 13,
   "metadata": {},
   "outputs": [
    {
     "name": "stdout",
     "output_type": "stream",
     "text": [
      "Model: \"sequential\"\n",
      "_________________________________________________________________\n",
      " Layer (type)                Output Shape              Param #   \n",
      "=================================================================\n",
      " dense (Dense)               (None, 32)                2048      \n",
      "                                                                 \n",
      " dense_1 (Dense)             (None, 5)                 165       \n",
      "                                                                 \n",
      "=================================================================\n",
      "Total params: 2213 (8.64 KB)\n",
      "Trainable params: 2213 (8.64 KB)\n",
      "Non-trainable params: 0 (0.00 Byte)\n",
      "_________________________________________________________________\n"
     ]
    }
   ],
   "source": [
    "model.summary()"
   ]
  },
  {
   "cell_type": "code",
   "execution_count": 14,
   "metadata": {},
   "outputs": [
    {
     "name": "stdout",
     "output_type": "stream",
     "text": [
      "WARNING:root:TensorFlow Decision Forests 1.5.0 is compatible with the following TensorFlow Versions: ['2.13.0']. However, TensorFlow 2.13.1 was detected. This can cause issues with the TF API and symbols in the custom C++ ops. See the TF and TF-DF compatibility table at https://github.com/tensorflow/decision-forests/blob/main/documentation/known_issues.md#compatibility-table.\n",
      "WARNING:tensorflow:Compiled the loaded model, but the compiled metrics have yet to be built. `model.compile_metrics` will be empty until you train or evaluate the model.\n",
      "WARNING:tensorflow:Compiled the loaded model, but the compiled metrics have yet to be built. `model.compile_metrics` will be empty until you train or evaluate the model.\n"
     ]
    }
   ],
   "source": [
    "!tensorflowjs_converter \\\n",
    "    --input_format=keras \\\n",
    "    --output_format=tfjs_graph_model \\\n",
    "    --saved_model_tags=serve \\\n",
    "    /Users/qianruzhang/Documents/GitHub/Machine-Learning-TFJS/Week5-Real-Time-Handpose-Recognition/ML/Handpose-Recognition.keras \\\n",
    "    /Users/qianruzhang/Documents/GitHub/Machine-Learning-TFJS/Week5-Real-Time-Posture-Recognition/tfjsmodel\n"
   ]
  }
 ],
 "metadata": {
  "kernelspec": {
   "display_name": "base",
   "language": "python",
   "name": "python3"
  },
  "language_info": {
   "codemirror_mode": {
    "name": "ipython",
    "version": 3
   },
   "file_extension": ".py",
   "mimetype": "text/x-python",
   "name": "python",
   "nbconvert_exporter": "python",
   "pygments_lexer": "ipython3",
   "version": "3.8.18"
  }
 },
 "nbformat": 4,
 "nbformat_minor": 2
}
