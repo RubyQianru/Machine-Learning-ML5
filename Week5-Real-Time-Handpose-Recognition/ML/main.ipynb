{
 "cells": [
  {
   "cell_type": "code",
   "execution_count": 1,
   "metadata": {},
   "outputs": [
    {
     "name": "stderr",
     "output_type": "stream",
     "text": [
      "2024-04-28 13:47:25.454555: I tensorflow/core/platform/cpu_feature_guard.cc:182] This TensorFlow binary is optimized to use available CPU instructions in performance-critical operations.\n",
      "To enable the following instructions: AVX2 FMA, in other operations, rebuild TensorFlow with the appropriate compiler flags.\n"
     ]
    }
   ],
   "source": [
    "import utils as u "
   ]
  },
  {
   "cell_type": "code",
   "execution_count": 2,
   "metadata": {},
   "outputs": [
    {
     "name": "stdout",
     "output_type": "stream",
     "text": [
      "[0 1 1 ... 0 2 0]\n"
     ]
    }
   ],
   "source": [
    "x_train, y_train, x_test, y_test = u.load_data(random_seed=2) "
   ]
  },
  {
   "cell_type": "code",
   "execution_count": 3,
   "metadata": {},
   "outputs": [],
   "source": [
    "# print(x_train)"
   ]
  },
  {
   "cell_type": "code",
   "execution_count": 4,
   "metadata": {},
   "outputs": [
    {
     "name": "stdout",
     "output_type": "stream",
     "text": [
      "(3657, 63) (3657,) (915, 63) (915,)\n"
     ]
    }
   ],
   "source": [
    "print(x_train.shape, y_train.shape, x_test.shape, y_test.shape)"
   ]
  },
  {
   "cell_type": "code",
   "execution_count": 5,
   "metadata": {},
   "outputs": [],
   "source": [
    "x_train, y_train, x_val, y_val, x_test, y_test = u.preprocess_data(x_train, \n",
    "                                                                 y_train, \n",
    "                                                                 x_test, \n",
    "                                                                 y_test)"
   ]
  },
  {
   "cell_type": "code",
   "execution_count": 6,
   "metadata": {},
   "outputs": [
    {
     "name": "stdout",
     "output_type": "stream",
     "text": [
      "(3292, 63) (3292,) (915, 63) (915,)\n"
     ]
    }
   ],
   "source": [
    "print(x_train.shape, y_train.shape, x_test.shape, y_test.shape)"
   ]
  },
  {
   "cell_type": "code",
   "execution_count": 7,
   "metadata": {},
   "outputs": [
    {
     "name": "stdout",
     "output_type": "stream",
     "text": [
      "2\n",
      "1.2683395\n",
      "-0.27441692\n",
      "2\n",
      "1.2620145\n",
      "-0.24090293\n"
     ]
    }
   ],
   "source": [
    "print(len(x_train.shape))\n",
    "print(x_train.max())\n",
    "print(x_train.min())\n",
    "\n",
    "print(len(x_test.shape))\n",
    "print(x_test.max())\n",
    "print(x_test.min())"
   ]
  },
  {
   "cell_type": "code",
   "execution_count": 8,
   "metadata": {},
   "outputs": [],
   "source": [
    "model = u.build_model()\n"
   ]
  },
  {
   "cell_type": "code",
   "execution_count": 9,
   "metadata": {},
   "outputs": [
    {
     "name": "stdout",
     "output_type": "stream",
     "text": [
      "Epoch 1/30\n",
      "52/52 [==============================] - 1s 5ms/step - loss: 1.3309 - accuracy: 0.4271 - val_loss: 1.2616 - val_accuracy: 0.6301\n",
      "Epoch 2/30\n",
      "52/52 [==============================] - 0s 3ms/step - loss: 1.2038 - accuracy: 0.6674 - val_loss: 1.1299 - val_accuracy: 0.6877\n",
      "Epoch 3/30\n",
      "52/52 [==============================] - 0s 3ms/step - loss: 1.0616 - accuracy: 0.7181 - val_loss: 0.9730 - val_accuracy: 0.7808\n",
      "Epoch 4/30\n",
      "52/52 [==============================] - 0s 2ms/step - loss: 0.9115 - accuracy: 0.7947 - val_loss: 0.8313 - val_accuracy: 0.8521\n",
      "Epoch 5/30\n",
      "52/52 [==============================] - 0s 2ms/step - loss: 0.7782 - accuracy: 0.8426 - val_loss: 0.7034 - val_accuracy: 0.8822\n",
      "Epoch 6/30\n",
      "52/52 [==============================] - 0s 2ms/step - loss: 0.6576 - accuracy: 0.8812 - val_loss: 0.5997 - val_accuracy: 0.9233\n",
      "Epoch 7/30\n",
      "52/52 [==============================] - 0s 2ms/step - loss: 0.5616 - accuracy: 0.9131 - val_loss: 0.5124 - val_accuracy: 0.9479\n",
      "Epoch 8/30\n",
      "52/52 [==============================] - 0s 2ms/step - loss: 0.4818 - accuracy: 0.9377 - val_loss: 0.4453 - val_accuracy: 0.9562\n",
      "Epoch 9/30\n",
      "52/52 [==============================] - 0s 2ms/step - loss: 0.4166 - accuracy: 0.9572 - val_loss: 0.3882 - val_accuracy: 0.9589\n",
      "Epoch 10/30\n",
      "52/52 [==============================] - 0s 2ms/step - loss: 0.3630 - accuracy: 0.9623 - val_loss: 0.3397 - val_accuracy: 0.9616\n",
      "Epoch 11/30\n",
      "52/52 [==============================] - 0s 2ms/step - loss: 0.3173 - accuracy: 0.9672 - val_loss: 0.3050 - val_accuracy: 0.9644\n",
      "Epoch 12/30\n",
      "52/52 [==============================] - 0s 2ms/step - loss: 0.2800 - accuracy: 0.9705 - val_loss: 0.2699 - val_accuracy: 0.9726\n",
      "Epoch 13/30\n",
      "52/52 [==============================] - 0s 2ms/step - loss: 0.2492 - accuracy: 0.9781 - val_loss: 0.2393 - val_accuracy: 0.9753\n",
      "Epoch 14/30\n",
      "52/52 [==============================] - 0s 2ms/step - loss: 0.2208 - accuracy: 0.9775 - val_loss: 0.2180 - val_accuracy: 0.9753\n",
      "Epoch 15/30\n",
      "52/52 [==============================] - 0s 3ms/step - loss: 0.1980 - accuracy: 0.9824 - val_loss: 0.2002 - val_accuracy: 0.9726\n",
      "Epoch 16/30\n",
      "52/52 [==============================] - 0s 2ms/step - loss: 0.1789 - accuracy: 0.9830 - val_loss: 0.1790 - val_accuracy: 0.9836\n",
      "Epoch 17/30\n",
      "52/52 [==============================] - 0s 2ms/step - loss: 0.1625 - accuracy: 0.9851 - val_loss: 0.1643 - val_accuracy: 0.9836\n",
      "Epoch 18/30\n",
      "52/52 [==============================] - 0s 2ms/step - loss: 0.1482 - accuracy: 0.9851 - val_loss: 0.1501 - val_accuracy: 0.9836\n",
      "Epoch 19/30\n",
      "52/52 [==============================] - 0s 2ms/step - loss: 0.1358 - accuracy: 0.9885 - val_loss: 0.1395 - val_accuracy: 0.9863\n",
      "Epoch 20/30\n",
      "52/52 [==============================] - 0s 2ms/step - loss: 0.1261 - accuracy: 0.9909 - val_loss: 0.1303 - val_accuracy: 0.9808\n",
      "Epoch 21/30\n",
      "52/52 [==============================] - 0s 2ms/step - loss: 0.1162 - accuracy: 0.9897 - val_loss: 0.1217 - val_accuracy: 0.9836\n",
      "Epoch 22/30\n",
      "52/52 [==============================] - 0s 2ms/step - loss: 0.1087 - accuracy: 0.9888 - val_loss: 0.1135 - val_accuracy: 0.9863\n",
      "Epoch 23/30\n",
      "52/52 [==============================] - 0s 2ms/step - loss: 0.1011 - accuracy: 0.9909 - val_loss: 0.1094 - val_accuracy: 0.9808\n",
      "Epoch 24/30\n",
      "52/52 [==============================] - 0s 2ms/step - loss: 0.0948 - accuracy: 0.9900 - val_loss: 0.1003 - val_accuracy: 0.9836\n",
      "Epoch 25/30\n",
      "52/52 [==============================] - 0s 2ms/step - loss: 0.0890 - accuracy: 0.9915 - val_loss: 0.0960 - val_accuracy: 0.9836\n",
      "Epoch 26/30\n",
      "52/52 [==============================] - 0s 2ms/step - loss: 0.0833 - accuracy: 0.9915 - val_loss: 0.0916 - val_accuracy: 0.9836\n",
      "Epoch 27/30\n",
      "52/52 [==============================] - 0s 2ms/step - loss: 0.0785 - accuracy: 0.9921 - val_loss: 0.0868 - val_accuracy: 0.9836\n",
      "Epoch 28/30\n",
      "52/52 [==============================] - 0s 3ms/step - loss: 0.0746 - accuracy: 0.9924 - val_loss: 0.0817 - val_accuracy: 0.9836\n",
      "Epoch 29/30\n",
      "52/52 [==============================] - 0s 4ms/step - loss: 0.0708 - accuracy: 0.9915 - val_loss: 0.0774 - val_accuracy: 0.9863\n",
      "Epoch 30/30\n",
      "52/52 [==============================] - 0s 2ms/step - loss: 0.0671 - accuracy: 0.9927 - val_loss: 0.0743 - val_accuracy: 0.9863\n"
     ]
    }
   ],
   "source": [
    "history = u.train_model(model, x_train, y_train, x_val, y_val, \n",
    "                      epochs=30, batch_size=64)"
   ]
  },
  {
   "cell_type": "code",
   "execution_count": 10,
   "metadata": {},
   "outputs": [
    {
     "data": {
      "image/png": "[encoded data removed]",
      "text/plain": [
       "<Figure size 1000x500 with 2 Axes>"
      ]
     },
     "metadata": {},
     "output_type": "display_data"
    }
   ],
   "source": [
    "u.plot_loss(history)"
   ]
  },
  {
   "cell_type": "code",
   "execution_count": 11,
   "metadata": {},
   "outputs": [
    {
     "name": "stdout",
     "output_type": "stream",
     "text": [
      "29/29 [==============================] - 0s 2ms/step\n",
      "[[9.8629498e-01 6.8304094e-04 1.7914926e-03 1.1230537e-02]\n",
      " [2.9068117e-03 9.7366464e-01 2.3399372e-02 2.9112571e-05]\n",
      " [9.5130509e-01 3.2983592e-03 1.0078422e-02 3.5318062e-02]\n",
      " ...\n",
      " [3.5214970e-01 8.2455401e-04 2.6668485e-02 6.2035722e-01]\n",
      " [4.5023847e-02 1.5648017e-02 9.3278682e-01 6.5412326e-03]\n",
      " [8.4557867e-01 3.4105510e-03 2.7376344e-02 1.2363441e-01]]\n",
      "29/29 [==============================] - 0s 2ms/step - loss: 0.0667 - accuracy: 0.9923\n",
      "[0 1 0 2 3 2 1 0 3 0 2 2 3 3 0 3 0 3 0 1 3 0 0 2 0 3 2 3 3 1 3 0 2 0 1 1 1\n",
      " 3 3 1 0 3 0 3 2 2 3 1 0 1 1 0 2 3 1 1 0 0 0 0 3 2 2 3 2 2 1 0 2 2 1 3 2 0\n",
      " 3 1 1 2 1 1 3 2 2 0 0 2 2 0 1 0 1 1 2 0 2 1 3 1 0 1 2 3 0 0 0 0 2 3 0 2 0\n",
      " 1 3 3 0 0 1 0 1 0 3 1 0 2 3 3 2 0 1 2 0 2 2 1 2 0 0 3 1 1 2 1 2 3 0 3 3 0\n",
      " 2 2 2 3 2 2 1 2 2 2 3 3 3 1 0 3 2 3 1 3 3 2 2 2 3 0 1 0 3 1 1 2 0 1 2 2 0\n",
      " 0 3 1 3 3 3 0 1 1 2 0 0 3 0 1 3 0 2 0 3 1 0 1 0 1 1 3 3 2 0 3 2 3 3 0 2 2\n",
      " 2 3 2 2 2 1 2 1 1 0 1 2 2 0 1 0 0 1 2 0 3 2 0 3 1 3 2 1 0 3 3 1 0 0 2 2 3\n",
      " 2 1 0 3 3 1 1 3 2 2 0 3 0 3 1 1 3 1 2 2 0 1 1 3 3 2 1 3 2 3 3 1 0 1 3 0 2\n",
      " 2 3 2 3 1 0 0 0 3 3 1 3 2 3 3 1 2 3 2 0 2 1 3 1 1 3 1 2 3 1 3 2 1 2 1 1 1\n",
      " 0 2 3 1 3 0 1 0 1 2 2 3 1 3 2 1 2 1 0 0 0 3 3 1 2 1 3 1 2 0 2 0 3 1 3 1 3\n",
      " 0 1 3 1 0 2 0 1 1 3 0 0 0 2 1 0 3 2 2 2 1 0 2 3 2 1 0 2 1 3 3 2 1 1 1 0 1\n",
      " 3 3 3 1 1 1 2 3 3 3 0 1 1 1 2 3 1 3 3 1 3 0 1 0 1 3 0 1 3 2 3 2 1 1 3 0 1\n",
      " 1 2 1 2 0 0 2 1 0 1 1 0 3 0 3 3 2 1 2 1 3 1 0 0 3 1 0 1 1 3 2 1 2 0 2 2 0\n",
      " 1 0 2 3 0 3 3 2 3 1 2 1 1 2 0 3 2 3 1 1 2 2 3 1 1 3 0 0 2 1 1 1 3 1 3 2 0\n",
      " 1 0 3 2 1 1 1 3 0 1 1 2 2 0 3 3 1 3 3 0 3 0 3 3 2 0 0 1 2 3 0 2 2 0 1 1 1\n",
      " 1 1 1 1 1 2 0 0 2 0 0 3 0 3 2 1 0 1 1 3 2 3 2 2 1 1 3 0 3 0 3 3 2 3 2 2 2\n",
      " 1 3 0 1 0 2 1 3 0 2 0 1 3 0 2 3 2 1 0 0 0 3 1 3 3 3 0 2 1 3 1 1 1 1 3 1 0\n",
      " 1 2 3 0 2 0 2 0 3 3 3 0 2 0 0 1 1 2 2 3 2 2 1 2 0 2 1 1 1 3 2 2 0 2 2 2 1\n",
      " 1 2 3 0 0 1 2 0 3 1 0 2 1 2 3 3 3 1 2 1 0 1 1 2 0 0 0 1 2 2 1 0 2 0 3 1 2\n",
      " 3 1 0 1 2 0 0 2 3 2 2 3 0 2 3 2 0 2 3 2 2 3 2 3 1 0 1 2 1 1 1 0 2 1 2 3 3\n",
      " 2 1 2 0 2 0 1 2 2 2 3 0 1 0 0 2 2 1 3 0 1 0 3 0 2 1 2 1 3 1 3 3 2 1 3 2 1\n",
      " 0 2 2 2 3 0 3 3 1 1 2 2 2 0 1 1 1 1 0 3 3 2 2 1 3 2 3 0 0 0 1 2 3 1 1 1 2\n",
      " 3 3 1 0 3 3 3 0 2 2 2 0 0 2 0 0 0 3 1 1 3 2 1 0 1 0 0 0 0 1 0 0 2 3 0 1 2\n",
      " 2 3 3 3 3 3 0 1 2 0 2 3 3 2 1 0 1 0 3 0 1 0 0 1 2 3 2 1 0 3 2 3 1 1 3 3 1\n",
      " 1 1 2 0 0 1 1 1 2 1 0 2 2 3 0 2 0 0 1 0 0 0 1 2 3 2 0]\n"
     ]
    }
   ],
   "source": [
    "test_acc, y_pred = u.test_model(model, x_test, y_test)\n",
    "print(y_pred)"
   ]
  },
  {
   "cell_type": "code",
   "execution_count": 16,
   "metadata": {},
   "outputs": [],
   "source": [
    "model.save('./Handpose-Recognition.keras')"
   ]
  },
  {
   "cell_type": "code",
   "execution_count": 13,
   "metadata": {},
   "outputs": [
    {
     "name": "stdout",
     "output_type": "stream",
     "text": [
      "0.9923497438430786\n"
     ]
    }
   ],
   "source": [
    "print(test_acc)"
   ]
  },
  {
   "cell_type": "code",
   "execution_count": 14,
   "metadata": {},
   "outputs": [
    {
     "name": "stdout",
     "output_type": "stream",
     "text": [
      "Model: \"sequential\"\n",
      "_________________________________________________________________\n",
      " Layer (type)                Output Shape              Param #   \n",
      "=================================================================\n",
      " dense (Dense)               (None, 32)                2048      \n",
      "                                                                 \n",
      " dense_1 (Dense)             (None, 4)                 132       \n",
      "                                                                 \n",
      "=================================================================\n",
      "Total params: 2180 (8.52 KB)\n",
      "Trainable params: 2180 (8.52 KB)\n",
      "Non-trainable params: 0 (0.00 Byte)\n",
      "_________________________________________________________________\n"
     ]
    }
   ],
   "source": [
    "model.summary()"
   ]
  },
  {
   "cell_type": "code",
   "execution_count": 14,
   "metadata": {},
   "outputs": [],
   "source": [
    "# %pip install tensorflowjs"
   ]
  },
  {
   "cell_type": "code",
   "execution_count": 21,
   "metadata": {},
   "outputs": [
    {
     "name": "stdout",
     "output_type": "stream",
     "text": [
      "WARNING:root:TensorFlow Decision Forests 1.5.0 is compatible with the following TensorFlow Versions: ['2.13.0']. However, TensorFlow 2.13.1 was detected. This can cause issues with the TF API and symbols in the custom C++ ops. See the TF and TF-DF compatibility table at https://github.com/tensorflow/decision-forests/blob/main/documentation/known_issues.md#compatibility-table.\n",
      "WARNING:tensorflow:Compiled the loaded model, but the compiled metrics have yet to be built. `model.compile_metrics` will be empty until you train or evaluate the model.\n",
      "WARNING:tensorflow:Compiled the loaded model, but the compiled metrics have yet to be built. `model.compile_metrics` will be empty until you train or evaluate the model.\n"
     ]
    }
   ],
   "source": [
    "!tensorflowjs_converter \\\n",
    "    --input_format=keras \\\n",
    "    --output_format=tfjs_graph_model \\\n",
    "    --saved_model_tags=serve \\\n",
    "    /Users/qianruzhang/Documents/GitHub/Machine-Learning-TFJS/Week5-Real-Time-Handpose-Recognition/ML/Handpose-Recognition.keras \\\n",
    "    /Users/qianruzhang/Documents/GitHub/Machine-Learning-TFJS/Week5-Real-Time-Posture-Recognition/tfjsmodel\n"
   ]
  }
 ],
 "metadata": {
  "kernelspec": {
   "display_name": "base",
   "language": "python",
   "name": "python3"
  },
  "language_info": {
   "codemirror_mode": {
    "name": "ipython",
    "version": 3
   },
   "file_extension": ".py",
   "mimetype": "text/x-python",
   "name": "python",
   "nbconvert_exporter": "python",
   "pygments_lexer": "ipython3",
   "version": "3.8.18"
  }
 },
 "nbformat": 4,
 "nbformat_minor": 2
}
