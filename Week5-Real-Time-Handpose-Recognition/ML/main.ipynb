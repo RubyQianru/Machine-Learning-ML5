{
 "cells": [
  {
   "cell_type": "code",
   "execution_count": 1,
   "metadata": {},
   "outputs": [
    {
     "name": "stderr",
     "output_type": "stream",
     "text": [
      "2024-03-01 18:51:01.511574: I tensorflow/core/platform/cpu_feature_guard.cc:182] This TensorFlow binary is optimized to use available CPU instructions in performance-critical operations.\n",
      "To enable the following instructions: AVX2 FMA, in other operations, rebuild TensorFlow with the appropriate compiler flags.\n"
     ]
    }
   ],
   "source": [
    "import utils as u "
   ]
  },
  {
   "cell_type": "code",
   "execution_count": 2,
   "metadata": {},
   "outputs": [
    {
     "name": "stdout",
     "output_type": "stream",
     "text": [
      "[0 2 2 0 3 1 0 1 1 1 2 1 3 0 2 0 0 0 0 3 0 1 3 0 1 0 3 2 1 2 0 3 3 1 1 0 0\n",
      " 3 2 1 2 1 2 2 2 0 3 1 0 0 2 0 1 1 1 3 0 0 1 3 0 1 1 3 1 2 3 2 0 1 1 2 0 2\n",
      " 1 0 1 1 3 0 1 2 1 0 2 3 0 0 1 2 2 2 2 3 2 3 0 1 2 3 0 1 0 2 0 2 3 0 2 1 3\n",
      " 2 0 2 0 1 0 2 2 2 2 1 3 1 1 3 3 0 3 1 0 0 3 1 2 3 2 2 3 2 2 1 2 0 2 1 2 3\n",
      " 1 1 3 2 1 0 3 2 2 0 0 2 2 2 1 2 2 3 1 2 0 0 2 1 2 2 3 1 3 0 0 0 2 1 2 1 1\n",
      " 3 3 0 1 0 3 3 0 1 0 0 3 1 1 1 0 0 0 0 3 1 1 0 0 2 3 1 1 3 3 0 1 1 2 3 0 0\n",
      " 2 1 3 0 0 1 2 3 0 0 3 0 2 2 3 0 0 3 3 2 0 2 1 0 0 1 2 3 0 2 0 3 1 1 1 1 1\n",
      " 2 0 1 3 0 3 2 2 2 2 2 1 3 3 1 0 0 0 1 1 3 2 2 2 1 3 3 2 0 0 1 3 0 2 0 1 2\n",
      " 3 2 2 3 0 2 2 0 2 1 0 3 1 1 0 0 0 1 3 2 3 0 0 0 2 0 0 3 3 1 1 2 1 1 1 2 0\n",
      " 2 0 3 1 0 1 1 0 0 1 1 2 3 3 3 3 0 2 2 3 2 1 0 0 3 0 1 3 0 2 1 0 2 2 3 2 1\n",
      " 2 2 2 0 0 2 3 3 0 3 1 2 3 1 0 3 3 0 1 1 2 2 2 3 3 1 3 3 2 2 2 0 1 2 1 1 1\n",
      " 0 3 2 1 1 2 0 3 2 2 1 3 2 0 3 0 2 0 1 1 0 2 2 1 0 0 3 1 2 1 0 1 2 1 0 1 0\n",
      " 0 3 3 2 1 1 0 3 0 3 1 0 0 1 1 3 1 2 2 1 2 2 1 1 2 3 2 2 0 3 0 3 1 0 2 0 1\n",
      " 0 3 1 1 0 3 3 0 0 3 3 2 1 2 1 1 2 0 0 0 2 1 0 2 2 1 0 1 1 2 0 3 0 3 3 2 3\n",
      " 1 3 2 0 1 3 2 0 0 0 0 3 1 1 2 1 2 0 3 3 2 1 0 3 2 3 3 0 0 3 2 2 3 0 2 2 2\n",
      " 2 0 2 1 0 2 1 1 3 3 1 3 3 0 1 2 3 0 3 1 2 0 0 2 0 1 2 2 0 3 2 1 3 3 2 0 3\n",
      " 0 0 1 2 3 0 0 3 0 1 0 0 3 2 3 3 0 0 2 2 2 3 3 2 2 3 1 2 3 2 3 1 1 0 0 1 3\n",
      " 3 2 0 0 1 2 2 1 0 1 1 1 3 3 3 2 0 0 1 3 0 2 1 0 3 3 2 1 2 0 2 1 3 3 2 3 0]\n"
     ]
    }
   ],
   "source": [
    "x_train, y_train, x_test, y_test = u.load_data(random_seed=2) "
   ]
  },
  {
   "cell_type": "code",
   "execution_count": 3,
   "metadata": {},
   "outputs": [],
   "source": [
    "# print(x_train)"
   ]
  },
  {
   "cell_type": "code",
   "execution_count": 4,
   "metadata": {},
   "outputs": [
    {
     "name": "stdout",
     "output_type": "stream",
     "text": [
      "(532, 63) (532,) (134, 63) (134,)\n"
     ]
    }
   ],
   "source": [
    "print(x_train.shape, y_train.shape, x_test.shape, y_test.shape)"
   ]
  },
  {
   "cell_type": "code",
   "execution_count": 5,
   "metadata": {},
   "outputs": [],
   "source": [
    "x_train, y_train, x_val, y_val, x_test, y_test = u.preprocess_data(x_train, \n",
    "                                                                 y_train, \n",
    "                                                                 x_test, \n",
    "                                                                 y_test)"
   ]
  },
  {
   "cell_type": "code",
   "execution_count": 6,
   "metadata": {},
   "outputs": [
    {
     "name": "stdout",
     "output_type": "stream",
     "text": [
      "(479, 63) (479,) (134, 63) (134,)\n"
     ]
    }
   ],
   "source": [
    "print(x_train.shape, y_train.shape, x_test.shape, y_test.shape)"
   ]
  },
  {
   "cell_type": "code",
   "execution_count": 7,
   "metadata": {},
   "outputs": [
    {
     "name": "stdout",
     "output_type": "stream",
     "text": [
      "2\n",
      "1.1006168\n",
      "-0.18086836\n",
      "2\n",
      "1.0048753\n",
      "-0.17242947\n"
     ]
    }
   ],
   "source": [
    "print(len(x_train.shape))\n",
    "print(x_train.max())\n",
    "print(x_train.min())\n",
    "\n",
    "print(len(x_test.shape))\n",
    "print(x_test.max())\n",
    "print(x_test.min())"
   ]
  },
  {
   "cell_type": "code",
   "execution_count": 8,
   "metadata": {},
   "outputs": [],
   "source": [
    "model = u.build_model()\n"
   ]
  },
  {
   "cell_type": "code",
   "execution_count": 9,
   "metadata": {},
   "outputs": [
    {
     "name": "stdout",
     "output_type": "stream",
     "text": [
      "Epoch 1/20\n",
      "8/8 [==============================] - 1s 22ms/step - loss: 1.3570 - accuracy: 0.3048 - val_loss: 1.3567 - val_accuracy: 0.2830\n",
      "Epoch 2/20\n",
      "8/8 [==============================] - 0s 4ms/step - loss: 1.3084 - accuracy: 0.4468 - val_loss: 1.3300 - val_accuracy: 0.3774\n",
      "Epoch 3/20\n",
      "8/8 [==============================] - 0s 4ms/step - loss: 1.2812 - accuracy: 0.5324 - val_loss: 1.3034 - val_accuracy: 0.4906\n",
      "Epoch 4/20\n",
      "8/8 [==============================] - 0s 4ms/step - loss: 1.2588 - accuracy: 0.5971 - val_loss: 1.2777 - val_accuracy: 0.5094\n",
      "Epoch 5/20\n",
      "8/8 [==============================] - 0s 4ms/step - loss: 1.2343 - accuracy: 0.5971 - val_loss: 1.2612 - val_accuracy: 0.4717\n",
      "Epoch 6/20\n",
      "8/8 [==============================] - 0s 4ms/step - loss: 1.2107 - accuracy: 0.5783 - val_loss: 1.2432 - val_accuracy: 0.4717\n",
      "Epoch 7/20\n",
      "8/8 [==============================] - 0s 4ms/step - loss: 1.1860 - accuracy: 0.5887 - val_loss: 1.2210 - val_accuracy: 0.5472\n",
      "Epoch 8/20\n",
      "8/8 [==============================] - 0s 4ms/step - loss: 1.1618 - accuracy: 0.6430 - val_loss: 1.1946 - val_accuracy: 0.5660\n",
      "Epoch 9/20\n",
      "8/8 [==============================] - 0s 4ms/step - loss: 1.1371 - accuracy: 0.6534 - val_loss: 1.1655 - val_accuracy: 0.5283\n",
      "Epoch 10/20\n",
      "8/8 [==============================] - 0s 4ms/step - loss: 1.1124 - accuracy: 0.6472 - val_loss: 1.1522 - val_accuracy: 0.5849\n",
      "Epoch 11/20\n",
      "8/8 [==============================] - 0s 4ms/step - loss: 1.0860 - accuracy: 0.6263 - val_loss: 1.1340 - val_accuracy: 0.5660\n",
      "Epoch 12/20\n",
      "8/8 [==============================] - 0s 4ms/step - loss: 1.0627 - accuracy: 0.6367 - val_loss: 1.1087 - val_accuracy: 0.6038\n",
      "Epoch 13/20\n",
      "8/8 [==============================] - 0s 4ms/step - loss: 1.0358 - accuracy: 0.6555 - val_loss: 1.0798 - val_accuracy: 0.5849\n",
      "Epoch 14/20\n",
      "8/8 [==============================] - 0s 4ms/step - loss: 1.0122 - accuracy: 0.6555 - val_loss: 1.0596 - val_accuracy: 0.6226\n",
      "Epoch 15/20\n",
      "8/8 [==============================] - 0s 4ms/step - loss: 0.9876 - accuracy: 0.6827 - val_loss: 1.0412 - val_accuracy: 0.6415\n",
      "Epoch 16/20\n",
      "8/8 [==============================] - 0s 4ms/step - loss: 0.9619 - accuracy: 0.6952 - val_loss: 1.0169 - val_accuracy: 0.6604\n",
      "Epoch 17/20\n",
      "8/8 [==============================] - 0s 4ms/step - loss: 0.9393 - accuracy: 0.6868 - val_loss: 0.9980 - val_accuracy: 0.6981\n",
      "Epoch 18/20\n",
      "8/8 [==============================] - 0s 4ms/step - loss: 0.9141 - accuracy: 0.7328 - val_loss: 0.9707 - val_accuracy: 0.7170\n",
      "Epoch 19/20\n",
      "8/8 [==============================] - 0s 4ms/step - loss: 0.8911 - accuracy: 0.7578 - val_loss: 0.9540 - val_accuracy: 0.7170\n",
      "Epoch 20/20\n",
      "8/8 [==============================] - 0s 4ms/step - loss: 0.8689 - accuracy: 0.7349 - val_loss: 0.9325 - val_accuracy: 0.7170\n"
     ]
    }
   ],
   "source": [
    "history = u.train_model(model, x_train, y_train, x_val, y_val, \n",
    "                      epochs=20, batch_size=64)"
   ]
  },
  {
   "cell_type": "code",
   "execution_count": 10,
   "metadata": {},
   "outputs": [
    {
     "data": {
      "image/png": "[encoded data removed]",
      "text/plain": [
       "<Figure size 1000x500 with 2 Axes>"
      ]
     },
     "metadata": {},
     "output_type": "display_data"
    }
   ],
   "source": [
    "u.plot_loss(history)"
   ]
  },
  {
   "cell_type": "code",
   "execution_count": 11,
   "metadata": {},
   "outputs": [
    {
     "name": "stdout",
     "output_type": "stream",
     "text": [
      "5/5 [==============================] - 0s 965us/step\n",
      "[[0.2664727  0.13081162 0.41505095 0.18766473]\n",
      " [0.23299892 0.337122   0.2683761  0.16150291]\n",
      " [0.17269123 0.21421583 0.5118527  0.10124029]\n",
      " [0.4543368  0.13025856 0.16760778 0.24779679]\n",
      " [0.4392584  0.06750888 0.09554632 0.39768633]\n",
      " [0.48393768 0.05964424 0.08725145 0.36916658]\n",
      " [0.3506373  0.14839216 0.2577009  0.24326964]\n",
      " [0.23522826 0.32861045 0.25965148 0.17650986]\n",
      " [0.5099176  0.08529463 0.13575491 0.2690328 ]\n",
      " [0.4467063  0.07708368 0.09430866 0.3819014 ]\n",
      " [0.21014285 0.32037723 0.35377583 0.11570402]\n",
      " [0.1885945  0.39893767 0.2604948  0.15197304]\n",
      " [0.42740914 0.0515443  0.1199256  0.40112093]\n",
      " [0.46561307 0.08613529 0.16178878 0.28646284]\n",
      " [0.41753295 0.21411131 0.16524665 0.20310904]\n",
      " [0.4648074  0.02456968 0.04090602 0.46971685]\n",
      " [0.19397819 0.35063547 0.33457044 0.12081594]\n",
      " [0.13816616 0.306483   0.4801709  0.07517996]\n",
      " [0.29262123 0.26795858 0.21265274 0.22676733]\n",
      " [0.4778847  0.10373455 0.16279267 0.25558802]\n",
      " [0.18000545 0.20124839 0.48299697 0.13574924]\n",
      " [0.15191726 0.23536998 0.5153855  0.09732711]\n",
      " [0.076197   0.36372247 0.5192985  0.04078199]\n",
      " [0.16975829 0.15096334 0.56739676 0.11188168]\n",
      " [0.19197717 0.40177494 0.3042305  0.1020173 ]\n",
      " [0.30989906 0.21000303 0.28699166 0.19310626]\n",
      " [0.13667369 0.4807914  0.30124173 0.08129323]\n",
      " [0.1720879  0.43675238 0.2975262  0.09363347]\n",
      " [0.14271985 0.1950679  0.5795824  0.08262984]\n",
      " [0.16031489 0.36830646 0.38152587 0.08985272]\n",
      " [0.11220177 0.43950546 0.3679138  0.08037892]\n",
      " [0.3417028  0.1528094  0.23690271 0.26858518]\n",
      " [0.41372272 0.12302984 0.12135607 0.3418912 ]\n",
      " [0.09428856 0.48721763 0.3694698  0.04902407]\n",
      " [0.46159044 0.04131966 0.06442709 0.43266284]\n",
      " [0.30679336 0.23860034 0.18894647 0.26565987]\n",
      " [0.47153467 0.13034748 0.14831284 0.24980496]\n",
      " [0.18145187 0.3114804  0.39245546 0.11461216]\n",
      " [0.11847011 0.3692043  0.4477772  0.06454835]\n",
      " [0.4508421  0.04293346 0.07054882 0.43567565]\n",
      " [0.43796882 0.09297744 0.20316069 0.2658929 ]\n",
      " [0.44390807 0.0723893  0.09835163 0.38535103]\n",
      " [0.16561086 0.44381788 0.28208745 0.10848377]\n",
      " [0.13300696 0.22841704 0.55414516 0.08443078]\n",
      " [0.42210197 0.15469114 0.19752243 0.22568436]\n",
      " [0.5032875  0.06803618 0.13827942 0.29039687]\n",
      " [0.14825767 0.22928323 0.5237413  0.09871769]\n",
      " [0.37242094 0.23491454 0.21050787 0.18215664]\n",
      " [0.10511463 0.5383392  0.28657946 0.06996685]\n",
      " [0.22086294 0.20232715 0.43044746 0.14636236]\n",
      " [0.09696892 0.30370045 0.54954463 0.049786  ]\n",
      " [0.30272183 0.3177833  0.22180195 0.15769286]\n",
      " [0.24217945 0.3071727  0.24209905 0.20854874]\n",
      " [0.20039059 0.27452397 0.39183316 0.13325237]\n",
      " [0.107434   0.46798477 0.3566693  0.06791187]\n",
      " [0.20276493 0.39608106 0.23319253 0.1679614 ]\n",
      " [0.44337913 0.05383169 0.11617278 0.38661635]\n",
      " [0.19585972 0.14976236 0.53154385 0.12283403]\n",
      " [0.4886097  0.09758642 0.14388633 0.26991743]\n",
      " [0.41330823 0.02933495 0.07339647 0.4839603 ]\n",
      " [0.46500865 0.15677543 0.15789844 0.22031747]\n",
      " [0.53752774 0.1199279  0.11963116 0.2229131 ]\n",
      " [0.11448843 0.51591027 0.29069784 0.0789034 ]\n",
      " [0.26333338 0.29213342 0.23255552 0.21197759]\n",
      " [0.27385458 0.28439763 0.20629022 0.23545755]\n",
      " [0.22446698 0.44081798 0.24521406 0.08950084]\n",
      " [0.5053818  0.07719783 0.13938886 0.27803147]\n",
      " [0.24130899 0.34987164 0.23534465 0.1734747 ]\n",
      " [0.50711673 0.11138283 0.11992753 0.261573  ]\n",
      " [0.2012173  0.37490994 0.2826976  0.14117517]\n",
      " [0.42945996 0.12494846 0.19286041 0.25273132]\n",
      " [0.48737422 0.0952088  0.15069322 0.26672363]\n",
      " [0.4460206  0.0959653  0.10911243 0.34890166]\n",
      " [0.09513444 0.31758758 0.53932077 0.0479572 ]\n",
      " [0.44175684 0.08311966 0.11493883 0.36018467]\n",
      " [0.45759413 0.07877993 0.1048737  0.3587522 ]\n",
      " [0.39257666 0.2385741  0.18659444 0.18225475]\n",
      " [0.54781127 0.09027645 0.10953791 0.25237438]\n",
      " [0.1739873  0.31223243 0.3912992  0.12248104]\n",
      " [0.23052238 0.13654853 0.48322606 0.14970288]\n",
      " [0.33467633 0.18355604 0.27546668 0.20630082]\n",
      " [0.4109815  0.07726418 0.09951846 0.4122358 ]\n",
      " [0.43336824 0.09157544 0.1677534  0.30730298]\n",
      " [0.03611499 0.5649149  0.37230542 0.02666471]\n",
      " [0.11097857 0.42457107 0.40048638 0.06396396]\n",
      " [0.31558904 0.19130512 0.27010512 0.22300069]\n",
      " [0.04924151 0.6956743  0.22788619 0.02719803]\n",
      " [0.13420162 0.22131804 0.56488097 0.07959927]\n",
      " [0.38675642 0.11504857 0.13234583 0.3658492 ]\n",
      " [0.08689366 0.29006937 0.58320844 0.03982846]\n",
      " [0.46006548 0.04363662 0.06773779 0.42856014]\n",
      " [0.13759045 0.41448432 0.36389244 0.08403287]\n",
      " [0.21154897 0.35658738 0.2545394  0.17732424]\n",
      " [0.44433424 0.11733469 0.16234411 0.275987  ]\n",
      " [0.45458475 0.2264056  0.15626265 0.16274695]\n",
      " [0.13866434 0.37236845 0.4175447  0.0714225 ]\n",
      " [0.43614593 0.09055325 0.11145572 0.36184508]\n",
      " [0.41897443 0.0417628  0.06522582 0.47403696]\n",
      " [0.10928233 0.47266695 0.3417236  0.07632711]\n",
      " [0.4230303  0.12957947 0.1996331  0.24775712]\n",
      " [0.4379894  0.14587209 0.17879976 0.2373387 ]\n",
      " [0.06902436 0.5367566  0.35687536 0.03734374]\n",
      " [0.25592327 0.2514886  0.32554585 0.16704226]\n",
      " [0.14135318 0.24857962 0.5291578  0.08090939]\n",
      " [0.09312518 0.5706064  0.27143392 0.0648344 ]\n",
      " [0.47306708 0.09269184 0.12574962 0.30849144]\n",
      " [0.09706505 0.55250514 0.28277302 0.06765675]\n",
      " [0.12383663 0.50752676 0.27419946 0.0944372 ]\n",
      " [0.1203477  0.40766633 0.41374263 0.05824332]\n",
      " [0.40224007 0.10802156 0.12213669 0.36760154]\n",
      " [0.46810606 0.0583777  0.08754841 0.3859679 ]\n",
      " [0.4941459  0.05403664 0.07922135 0.37259597]\n",
      " [0.3453344  0.18012646 0.24033722 0.23420197]\n",
      " [0.49287668 0.1907827  0.14275141 0.17358929]\n",
      " [0.51656526 0.10305446 0.11956973 0.26081046]\n",
      " [0.1778956  0.43066067 0.2817216  0.10972223]\n",
      " [0.4067169  0.09727918 0.16473477 0.3312692 ]\n",
      " [0.48341715 0.09975111 0.14611104 0.2707207 ]\n",
      " [0.1381959  0.22812374 0.54196554 0.09171476]\n",
      " [0.07898368 0.58723456 0.28323895 0.05054285]\n",
      " [0.18897739 0.40186512 0.30862546 0.10053196]\n",
      " [0.463341   0.08240213 0.09690829 0.35734853]\n",
      " [0.41058305 0.06568898 0.15130739 0.37242055]\n",
      " [0.11835566 0.2910888  0.5316992  0.05885632]\n",
      " [0.16367018 0.44311598 0.27701148 0.11620224]\n",
      " [0.32260272 0.16344005 0.26526585 0.24869129]\n",
      " [0.45905462 0.20208178 0.1664634  0.17240012]\n",
      " [0.11257554 0.26063013 0.5659485  0.0608459 ]\n",
      " [0.11426846 0.51724446 0.29346016 0.07502685]\n",
      " [0.4499602  0.07999034 0.10394381 0.3661057 ]\n",
      " [0.43917766 0.05554069 0.08030035 0.4249813 ]\n",
      " [0.10849948 0.27896848 0.5399563  0.07257575]\n",
      " [0.26949495 0.25870457 0.229144   0.24265644]\n",
      " [0.488635   0.09162273 0.13943852 0.2803038 ]]\n",
      "5/5 [==============================] - 0s 1ms/step - loss: 0.9196 - accuracy: 0.6045\n",
      "[2 1 2 0 0 0 0 1 0 0 2 1 0 0 0 3 1 2 0 0 2 2 2 2 1 0 1 1 2 2 1 0 0 1 0 0 0\n",
      " 2 2 0 0 0 1 2 0 0 2 0 1 2 2 1 1 2 1 1 0 2 0 3 0 0 1 1 1 1 0 1 0 1 0 0 0 2\n",
      " 0 0 0 0 2 2 0 3 0 1 1 0 1 2 0 2 0 1 1 0 0 2 0 3 1 0 0 1 2 2 1 0 1 1 2 0 0\n",
      " 0 0 0 0 1 0 0 2 1 1 0 0 2 1 0 0 2 1 0 0 2 0 0]\n"
     ]
    }
   ],
   "source": [
    "test_acc, y_pred = u.test_model(model, x_test, y_test)\n",
    "print(y_pred)"
   ]
  },
  {
   "cell_type": "code",
   "execution_count": 16,
   "metadata": {},
   "outputs": [],
   "source": [
    "model.save('./Handpose-Recognition.h5')"
   ]
  },
  {
   "cell_type": "code",
   "execution_count": 13,
   "metadata": {},
   "outputs": [],
   "source": [
    "# %pip install tensorflowjs"
   ]
  },
  {
   "cell_type": "code",
   "execution_count": 19,
   "metadata": {},
   "outputs": [
    {
     "name": "stdout",
     "output_type": "stream",
     "text": [
      "WARNING:root:TensorFlow Decision Forests 1.5.0 is compatible with the following TensorFlow Versions: ['2.13.0']. However, TensorFlow 2.13.1 was detected. This can cause issues with the TF API and symbols in the custom C++ ops. See the TF and TF-DF compatibility table at https://github.com/tensorflow/decision-forests/blob/main/documentation/known_issues.md#compatibility-table.\n",
      "WARNING:tensorflow:Compiled the loaded model, but the compiled metrics have yet to be built. `model.compile_metrics` will be empty until you train or evaluate the model.\n",
      "WARNING:tensorflow:Compiled the loaded model, but the compiled metrics have yet to be built. `model.compile_metrics` will be empty until you train or evaluate the model.\n"
     ]
    }
   ],
   "source": [
    "!tensorflowjs_converter \\\n",
    "    --input_format=keras \\\n",
    "    --output_format=tfjs_graph_model \\\n",
    "    --saved_model_tags=serve \\\n",
    "    /Users/qianruzhang/Documents/GitHub/Machine-Learning-ML5/Week5-Real-Time-Handpose-Recognition/ML/Handpose-Recognition.keras \\\n",
    "    /Users/qianruzhang/Documents/GitHub/Machine-Learning-ML5/Week5-Real-Time-Posture-Recognition/tfjsmodel\n"
   ]
  }
 ],
 "metadata": {
  "kernelspec": {
   "display_name": "base",
   "language": "python",
   "name": "python3"
  },
  "language_info": {
   "codemirror_mode": {
    "name": "ipython",
    "version": 3
   },
   "file_extension": ".py",
   "mimetype": "text/x-python",
   "name": "python",
   "nbconvert_exporter": "python",
   "pygments_lexer": "ipython3",
   "version": "3.8.18"
  }
 },
 "nbformat": 4,
 "nbformat_minor": 2
}
