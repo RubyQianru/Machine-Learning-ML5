{
 "cells": [
  {
   "cell_type": "code",
   "execution_count": 1,
   "metadata": {},
   "outputs": [
    {
     "name": "stderr",
     "output_type": "stream",
     "text": [
      "2024-03-01 22:02:36.638783: I tensorflow/core/platform/cpu_feature_guard.cc:182] This TensorFlow binary is optimized to use available CPU instructions in performance-critical operations.\n",
      "To enable the following instructions: AVX2 FMA, in other operations, rebuild TensorFlow with the appropriate compiler flags.\n"
     ]
    }
   ],
   "source": [
    "import utils as u "
   ]
  },
  {
   "cell_type": "code",
   "execution_count": 2,
   "metadata": {},
   "outputs": [
    {
     "name": "stdout",
     "output_type": "stream",
     "text": [
      "[0 2 2 0 3 1 0 1 1 1 2 1 3 0 2 0 0 0 0 3 0 1 3 0 1 0 3 2 1 2 0 3 3 1 1 0 0\n",
      " 3 2 1 2 1 2 2 2 0 3 1 0 0 2 0 1 1 1 3 0 0 1 3 0 1 1 3 1 2 3 2 0 1 1 2 0 2\n",
      " 1 0 1 1 3 0 1 2 1 0 2 3 0 0 1 2 2 2 2 3 2 3 0 1 2 3 0 1 0 2 0 2 3 0 2 1 3\n",
      " 2 0 2 0 1 0 2 2 2 2 1 3 1 1 3 3 0 3 1 0 0 3 1 2 3 2 2 3 2 2 1 2 0 2 1 2 3\n",
      " 1 1 3 2 1 0 3 2 2 0 0 2 2 2 1 2 2 3 1 2 0 0 2 1 2 2 3 1 3 0 0 0 2 1 2 1 1\n",
      " 3 3 0 1 0 3 3 0 1 0 0 3 1 1 1 0 0 0 0 3 1 1 0 0 2 3 1 1 3 3 0 1 1 2 3 0 0\n",
      " 2 1 3 0 0 1 2 3 0 0 3 0 2 2 3 0 0 3 3 2 0 2 1 0 0 1 2 3 0 2 0 3 1 1 1 1 1\n",
      " 2 0 1 3 0 3 2 2 2 2 2 1 3 3 1 0 0 0 1 1 3 2 2 2 1 3 3 2 0 0 1 3 0 2 0 1 2\n",
      " 3 2 2 3 0 2 2 0 2 1 0 3 1 1 0 0 0 1 3 2 3 0 0 0 2 0 0 3 3 1 1 2 1 1 1 2 0\n",
      " 2 0 3 1 0 1 1 0 0 1 1 2 3 3 3 3 0 2 2 3 2 1 0 0 3 0 1 3 0 2 1 0 2 2 3 2 1\n",
      " 2 2 2 0 0 2 3 3 0 3 1 2 3 1 0 3 3 0 1 1 2 2 2 3 3 1 3 3 2 2 2 0 1 2 1 1 1\n",
      " 0 3 2 1 1 2 0 3 2 2 1 3 2 0 3 0 2 0 1 1 0 2 2 1 0 0 3 1 2 1 0 1 2 1 0 1 0\n",
      " 0 3 3 2 1 1 0 3 0 3 1 0 0 1 1 3 1 2 2 1 2 2 1 1 2 3 2 2 0 3 0 3 1 0 2 0 1\n",
      " 0 3 1 1 0 3 3 0 0 3 3 2 1 2 1 1 2 0 0 0 2 1 0 2 2 1 0 1 1 2 0 3 0 3 3 2 3\n",
      " 1 3 2 0 1 3 2 0 0 0 0 3 1 1 2 1 2 0 3 3 2 1 0 3 2 3 3 0 0 3 2 2 3 0 2 2 2\n",
      " 2 0 2 1 0 2 1 1 3 3 1 3 3 0 1 2 3 0 3 1 2 0 0 2 0 1 2 2 0 3 2 1 3 3 2 0 3\n",
      " 0 0 1 2 3 0 0 3 0 1 0 0 3 2 3 3 0 0 2 2 2 3 3 2 2 3 1 2 3 2 3 1 1 0 0 1 3\n",
      " 3 2 0 0 1 2 2 1 0 1 1 1 3 3 3 2 0 0 1 3 0 2 1 0 3 3 2 1 2 0 2 1 3 3 2 3 0]\n"
     ]
    }
   ],
   "source": [
    "x_train, y_train, x_test, y_test = u.load_data(random_seed=2) "
   ]
  },
  {
   "cell_type": "code",
   "execution_count": 3,
   "metadata": {},
   "outputs": [],
   "source": [
    "# print(x_train)"
   ]
  },
  {
   "cell_type": "code",
   "execution_count": 4,
   "metadata": {},
   "outputs": [
    {
     "name": "stdout",
     "output_type": "stream",
     "text": [
      "(532, 63) (532,) (134, 63) (134,)\n"
     ]
    }
   ],
   "source": [
    "print(x_train.shape, y_train.shape, x_test.shape, y_test.shape)"
   ]
  },
  {
   "cell_type": "code",
   "execution_count": 5,
   "metadata": {},
   "outputs": [],
   "source": [
    "x_train, y_train, x_val, y_val, x_test, y_test = u.preprocess_data(x_train, \n",
    "                                                                 y_train, \n",
    "                                                                 x_test, \n",
    "                                                                 y_test)"
   ]
  },
  {
   "cell_type": "code",
   "execution_count": 6,
   "metadata": {},
   "outputs": [
    {
     "name": "stdout",
     "output_type": "stream",
     "text": [
      "(479, 63) (479,) (134, 63) (134,)\n"
     ]
    }
   ],
   "source": [
    "print(x_train.shape, y_train.shape, x_test.shape, y_test.shape)"
   ]
  },
  {
   "cell_type": "code",
   "execution_count": 7,
   "metadata": {},
   "outputs": [
    {
     "name": "stdout",
     "output_type": "stream",
     "text": [
      "2\n",
      "1.1006168\n",
      "-0.18086836\n",
      "2\n",
      "1.0048753\n",
      "-0.17242947\n"
     ]
    }
   ],
   "source": [
    "print(len(x_train.shape))\n",
    "print(x_train.max())\n",
    "print(x_train.min())\n",
    "\n",
    "print(len(x_test.shape))\n",
    "print(x_test.max())\n",
    "print(x_test.min())"
   ]
  },
  {
   "cell_type": "code",
   "execution_count": 8,
   "metadata": {},
   "outputs": [],
   "source": [
    "model = u.build_model()\n"
   ]
  },
  {
   "cell_type": "code",
   "execution_count": 17,
   "metadata": {},
   "outputs": [
    {
     "name": "stdout",
     "output_type": "stream",
     "text": [
      "Epoch 1/30\n",
      "8/8 [==============================] - 0s 17ms/step - loss: 0.9268 - accuracy: 0.7724 - val_loss: 0.9852 - val_accuracy: 0.6981\n",
      "Epoch 2/30\n",
      "8/8 [==============================] - 0s 4ms/step - loss: 0.9016 - accuracy: 0.7537 - val_loss: 0.9630 - val_accuracy: 0.6792\n",
      "Epoch 3/30\n",
      "8/8 [==============================] - 0s 5ms/step - loss: 0.8787 - accuracy: 0.7557 - val_loss: 0.9362 - val_accuracy: 0.6792\n",
      "Epoch 4/30\n",
      "8/8 [==============================] - 0s 5ms/step - loss: 0.8557 - accuracy: 0.7850 - val_loss: 0.9174 - val_accuracy: 0.7170\n",
      "Epoch 5/30\n",
      "8/8 [==============================] - 0s 5ms/step - loss: 0.8317 - accuracy: 0.8100 - val_loss: 0.8953 - val_accuracy: 0.7170\n",
      "Epoch 6/30\n",
      "8/8 [==============================] - 0s 4ms/step - loss: 0.8108 - accuracy: 0.8225 - val_loss: 0.8740 - val_accuracy: 0.7547\n",
      "Epoch 7/30\n",
      "8/8 [==============================] - 0s 4ms/step - loss: 0.7888 - accuracy: 0.8351 - val_loss: 0.8543 - val_accuracy: 0.7736\n",
      "Epoch 8/30\n",
      "8/8 [==============================] - 0s 4ms/step - loss: 0.7697 - accuracy: 0.8205 - val_loss: 0.8396 - val_accuracy: 0.8113\n",
      "Epoch 9/30\n",
      "8/8 [==============================] - 0s 4ms/step - loss: 0.7495 - accuracy: 0.8267 - val_loss: 0.8142 - val_accuracy: 0.7547\n",
      "Epoch 10/30\n",
      "8/8 [==============================] - 0s 4ms/step - loss: 0.7286 - accuracy: 0.8539 - val_loss: 0.7933 - val_accuracy: 0.8113\n",
      "Epoch 11/30\n",
      "8/8 [==============================] - 0s 4ms/step - loss: 0.7087 - accuracy: 0.8873 - val_loss: 0.7775 - val_accuracy: 0.8113\n",
      "Epoch 12/30\n",
      "8/8 [==============================] - 0s 4ms/step - loss: 0.6902 - accuracy: 0.8873 - val_loss: 0.7594 - val_accuracy: 0.8491\n",
      "Epoch 13/30\n",
      "8/8 [==============================] - 0s 4ms/step - loss: 0.6700 - accuracy: 0.8810 - val_loss: 0.7384 - val_accuracy: 0.8302\n",
      "Epoch 14/30\n",
      "8/8 [==============================] - 0s 4ms/step - loss: 0.6525 - accuracy: 0.8831 - val_loss: 0.7193 - val_accuracy: 0.7925\n",
      "Epoch 15/30\n",
      "8/8 [==============================] - 0s 6ms/step - loss: 0.6347 - accuracy: 0.8894 - val_loss: 0.7019 - val_accuracy: 0.8113\n",
      "Epoch 16/30\n",
      "8/8 [==============================] - 0s 5ms/step - loss: 0.6175 - accuracy: 0.8956 - val_loss: 0.6852 - val_accuracy: 0.8679\n",
      "Epoch 17/30\n",
      "8/8 [==============================] - 0s 6ms/step - loss: 0.6017 - accuracy: 0.8810 - val_loss: 0.6661 - val_accuracy: 0.8679\n",
      "Epoch 18/30\n",
      "8/8 [==============================] - 0s 5ms/step - loss: 0.5839 - accuracy: 0.8977 - val_loss: 0.6520 - val_accuracy: 0.8868\n",
      "Epoch 19/30\n",
      "8/8 [==============================] - 0s 4ms/step - loss: 0.5689 - accuracy: 0.8935 - val_loss: 0.6354 - val_accuracy: 0.8679\n",
      "Epoch 20/30\n",
      "8/8 [==============================] - 0s 4ms/step - loss: 0.5550 - accuracy: 0.8956 - val_loss: 0.6193 - val_accuracy: 0.8868\n",
      "Epoch 21/30\n",
      "8/8 [==============================] - 0s 4ms/step - loss: 0.5388 - accuracy: 0.9019 - val_loss: 0.6051 - val_accuracy: 0.8679\n",
      "Epoch 22/30\n",
      "8/8 [==============================] - 0s 4ms/step - loss: 0.5267 - accuracy: 0.8998 - val_loss: 0.5941 - val_accuracy: 0.8868\n",
      "Epoch 23/30\n",
      "8/8 [==============================] - 0s 4ms/step - loss: 0.5137 - accuracy: 0.9081 - val_loss: 0.5787 - val_accuracy: 0.8679\n",
      "Epoch 24/30\n",
      "8/8 [==============================] - 0s 4ms/step - loss: 0.4994 - accuracy: 0.9081 - val_loss: 0.5672 - val_accuracy: 0.8679\n",
      "Epoch 25/30\n",
      "8/8 [==============================] - 0s 4ms/step - loss: 0.4882 - accuracy: 0.9061 - val_loss: 0.5536 - val_accuracy: 0.8679\n",
      "Epoch 26/30\n",
      "8/8 [==============================] - 0s 4ms/step - loss: 0.4749 - accuracy: 0.9186 - val_loss: 0.5437 - val_accuracy: 0.8868\n",
      "Epoch 27/30\n",
      "8/8 [==============================] - 0s 4ms/step - loss: 0.4639 - accuracy: 0.9207 - val_loss: 0.5322 - val_accuracy: 0.8679\n",
      "Epoch 28/30\n",
      "8/8 [==============================] - 0s 4ms/step - loss: 0.4510 - accuracy: 0.9290 - val_loss: 0.5184 - val_accuracy: 0.8679\n",
      "Epoch 29/30\n",
      "8/8 [==============================] - 0s 4ms/step - loss: 0.4415 - accuracy: 0.9311 - val_loss: 0.5104 - val_accuracy: 0.8679\n",
      "Epoch 30/30\n",
      "8/8 [==============================] - 0s 4ms/step - loss: 0.4303 - accuracy: 0.9311 - val_loss: 0.4975 - val_accuracy: 0.8868\n"
     ]
    }
   ],
   "source": [
    "history = u.train_model(model, x_train, y_train, x_val, y_val, \n",
    "                      epochs=30, batch_size=64)"
   ]
  },
  {
   "cell_type": "code",
   "execution_count": 10,
   "metadata": {},
   "outputs": [
    {
     "data": {
      "image/png": "[encoded data removed]",
      "text/plain": [
       "<Figure size 1000x500 with 2 Axes>"
      ]
     },
     "metadata": {},
     "output_type": "display_data"
    }
   ],
   "source": [
    "u.plot_loss(history)"
   ]
  },
  {
   "cell_type": "code",
   "execution_count": 18,
   "metadata": {},
   "outputs": [
    {
     "name": "stdout",
     "output_type": "stream",
     "text": [
      "5/5 [==============================] - 0s 10ms/step\n",
      "[[5.83680719e-02 1.22525908e-01 7.46027350e-01 7.30786547e-02]\n",
      " [1.12044796e-01 5.04266500e-01 3.20718139e-01 6.29704818e-02]\n",
      " [6.19211793e-02 1.79061994e-01 7.28947163e-01 3.00696455e-02]\n",
      " [7.66119957e-01 2.60752682e-02 4.12211157e-02 1.66583702e-01]\n",
      " [2.21631989e-01 5.10271220e-03 1.97916105e-02 7.53473520e-01]\n",
      " [3.06379139e-01 5.53325424e-03 1.44300833e-02 6.73657477e-01]\n",
      " [1.39883220e-01 2.12669790e-01 5.42053878e-01 1.05393104e-01]\n",
      " [2.90495697e-02 6.94636703e-01 2.44734854e-01 3.15788649e-02]\n",
      " [8.26906979e-01 9.13730077e-03 2.23438852e-02 1.41611844e-01]\n",
      " [2.56783515e-01 9.26205330e-03 2.24024393e-02 7.11551964e-01]\n",
      " [5.70315011e-02 4.28899586e-01 4.76704329e-01 3.73644605e-02]\n",
      " [8.89338776e-02 5.50041735e-01 2.39563257e-01 1.21461079e-01]\n",
      " [2.62364954e-01 4.03148914e-03 4.06681485e-02 6.92935407e-01]\n",
      " [7.14184463e-01 2.46637948e-02 5.92220873e-02 2.01929688e-01]\n",
      " [7.27444053e-01 6.13107570e-02 5.26652224e-02 1.58580050e-01]\n",
      " [1.68964058e-01 3.58986086e-03 9.53485351e-03 8.17911208e-01]\n",
      " [4.02362980e-02 5.21178663e-01 4.05053347e-01 3.35316397e-02]\n",
      " [8.11826587e-02 2.83093214e-01 6.06182933e-01 2.95412000e-02]\n",
      " [2.59529948e-01 2.57423460e-01 1.95423543e-01 2.87623107e-01]\n",
      " [8.07543993e-01 1.53503837e-02 3.21592465e-02 1.44946307e-01]\n",
      " [3.73209529e-02 1.83912277e-01 7.31335521e-01 4.74313125e-02]\n",
      " [2.51388419e-02 2.14029282e-01 7.40535438e-01 2.02965159e-02]\n",
      " [2.02472880e-02 3.50619495e-01 6.20136559e-01 8.99668783e-03]\n",
      " [2.10756380e-02 1.19745798e-01 8.40239584e-01 1.89389735e-02]\n",
      " [1.82882920e-01 4.36112702e-01 2.84900159e-01 9.61042196e-02]\n",
      " [1.14460900e-01 3.07223678e-01 4.93601382e-01 8.47141445e-02]\n",
      " [1.72896888e-02 7.51046360e-01 2.17699319e-01 1.39646782e-02]\n",
      " [2.11168036e-01 3.73618484e-01 2.29576439e-01 1.85637027e-01]\n",
      " [3.07198409e-02 1.40634820e-01 8.10836613e-01 1.78087186e-02]\n",
      " [1.04391277e-01 4.15845275e-01 4.50628370e-01 2.91351676e-02]\n",
      " [1.83743089e-02 6.50207758e-01 3.11955094e-01 1.94628257e-02]\n",
      " [3.14850152e-01 2.50874218e-02 1.10493653e-01 5.49568713e-01]\n",
      " [2.04522640e-01 2.40931958e-02 2.59354673e-02 7.45448768e-01]\n",
      " [4.64814045e-02 5.84575951e-01 3.56397271e-01 1.25453332e-02]\n",
      " [2.13319719e-01 2.65278528e-03 1.22353360e-02 7.71792233e-01]\n",
      " [1.69990614e-01 7.54658803e-02 5.62502965e-02 6.98293149e-01]\n",
      " [6.43096149e-01 5.74291125e-02 7.81404674e-02 2.21334159e-01]\n",
      " [4.02303524e-02 4.35800582e-01 5.04077435e-01 1.98916681e-02]\n",
      " [3.07070501e-02 3.92109454e-01 5.62988937e-01 1.41945854e-02]\n",
      " [1.59112751e-01 3.93824140e-03 1.60276275e-02 8.20921302e-01]\n",
      " [6.85884953e-01 3.90349068e-02 1.06731690e-01 1.68348476e-01]\n",
      " [2.24567071e-01 1.47009660e-02 2.16299333e-02 7.39101946e-01]\n",
      " [4.56318036e-02 6.84733391e-01 2.39614934e-01 3.00198570e-02]\n",
      " [1.90299395e-02 1.87105283e-01 7.79621720e-01 1.42429704e-02]\n",
      " [7.63279498e-01 3.37271653e-02 5.69575205e-02 1.46035686e-01]\n",
      " [7.94403911e-01 1.10004228e-02 3.46348472e-02 1.59960881e-01]\n",
      " [2.06955522e-02 2.37046212e-01 7.19647646e-01 2.26105731e-02]\n",
      " [5.10859668e-01 2.08827391e-01 1.39126390e-01 1.41186535e-01]\n",
      " [1.47049930e-02 8.02320600e-01 1.73442572e-01 9.53181833e-03]\n",
      " [7.02663958e-02 2.20672607e-01 6.51911914e-01 5.71490601e-02]\n",
      " [3.29214595e-02 2.62674958e-01 6.93228066e-01 1.11755934e-02]\n",
      " [4.52895284e-01 2.43916318e-01 1.19894348e-01 1.83293924e-01]\n",
      " [1.30147323e-01 2.14443192e-01 1.34184152e-01 5.21225333e-01]\n",
      " [6.70861825e-02 3.21657062e-01 5.70921004e-01 4.03356813e-02]\n",
      " [4.39692475e-02 5.89411557e-01 3.46028239e-01 2.05910038e-02]\n",
      " [1.19798467e-01 1.68976635e-01 8.18117708e-02 6.29413128e-01]\n",
      " [3.14826936e-01 5.77847799e-03 4.25185561e-02 6.36875927e-01]\n",
      " [4.75023240e-02 1.00963429e-01 8.15239906e-01 3.62941623e-02]\n",
      " [8.01096201e-01 1.64427385e-02 3.56191397e-02 1.46841943e-01]\n",
      " [2.09407225e-01 1.41449680e-03 2.27427762e-02 7.66435504e-01]\n",
      " [7.45328188e-01 5.48731424e-02 5.57362139e-02 1.44062459e-01]\n",
      " [8.81567955e-01 8.12349096e-03 1.41677959e-02 9.61407349e-02]\n",
      " [1.75664350e-02 7.81724393e-01 1.89142600e-01 1.15664825e-02]\n",
      " [5.69284372e-02 5.10422945e-01 2.28152066e-01 2.04496518e-01]\n",
      " [1.63368553e-01 1.03001572e-01 6.71191737e-02 6.66510761e-01]\n",
      " [5.82122564e-01 2.30608284e-01 1.13396175e-01 7.38730803e-02]\n",
      " [8.11255217e-01 9.77422670e-03 2.81345192e-02 1.50836036e-01]\n",
      " [2.24244565e-01 3.45197141e-01 2.06418604e-01 2.24139556e-01]\n",
      " [7.53933370e-01 2.31256373e-02 3.45847197e-02 1.88356400e-01]\n",
      " [2.18743924e-02 7.17273057e-01 2.35105678e-01 2.57468596e-02]\n",
      " [6.80635154e-01 4.42463309e-02 8.42857957e-02 1.90832600e-01]\n",
      " [8.00671101e-01 1.25333844e-02 2.74444651e-02 1.59350991e-01]\n",
      " [3.16895008e-01 9.59617086e-03 2.14547850e-02 6.52054071e-01]\n",
      " [4.49943878e-02 2.76791334e-01 6.63578987e-01 1.46353683e-02]\n",
      " [2.67550081e-01 1.57377366e-02 2.69780047e-02 6.89734161e-01]\n",
      " [3.10583085e-01 9.81438905e-03 1.72576252e-02 6.62344992e-01]\n",
      " [6.96800113e-01 8.56088698e-02 6.75126091e-02 1.50078505e-01]\n",
      " [8.24414730e-01 6.25950098e-03 1.32651897e-02 1.56060576e-01]\n",
      " [3.02769020e-02 3.89292359e-01 5.51439404e-01 2.89913788e-02]\n",
      " [1.32586494e-01 7.92188719e-02 7.03984559e-01 8.42100903e-02]\n",
      " [1.69368654e-01 2.44272798e-01 4.29065019e-01 1.57293499e-01]\n",
      " [1.43546656e-01 9.27927718e-03 2.36097313e-02 8.23564291e-01]\n",
      " [4.16571766e-01 6.05248893e-03 4.37655076e-02 5.33610225e-01]\n",
      " [6.28019159e-04 8.19704890e-01 1.77768692e-01 1.89832004e-03]\n",
      " [2.04553287e-02 5.56526065e-01 4.06010270e-01 1.70082394e-02]\n",
      " [3.68853956e-01 4.22996134e-02 1.50820494e-01 4.38025922e-01]\n",
      " [1.02826571e-02 8.69427741e-01 1.16951890e-01 3.33783962e-03]\n",
      " [1.93373859e-02 2.09000289e-01 7.60941446e-01 1.07208826e-02]\n",
      " [1.47468552e-01 2.63930447e-02 3.05670016e-02 7.95571387e-01]\n",
      " [3.02095748e-02 2.36521989e-01 7.25638211e-01 7.63018290e-03]\n",
      " [2.12342143e-01 2.97530484e-03 1.32275438e-02 7.71455050e-01]\n",
      " [4.79147285e-02 5.33216298e-01 3.90905738e-01 2.79632732e-02]\n",
      " [1.73420738e-02 7.64652073e-01 1.87528387e-01 3.04774810e-02]\n",
      " [6.54022396e-01 4.50813435e-02 7.38433972e-02 2.27052823e-01]\n",
      " [8.97479355e-01 1.40978238e-02 1.57168750e-02 7.27059618e-02]\n",
      " [6.30692095e-02 4.02079910e-01 5.14146328e-01 2.07045898e-02]\n",
      " [3.27346772e-01 7.62988441e-03 2.42060982e-02 6.40817285e-01]\n",
      " [7.87211657e-02 6.38087187e-03 1.80971455e-02 8.96800756e-01]\n",
      " [3.11031006e-02 5.79497218e-01 3.67982000e-01 2.14177966e-02]\n",
      " [6.86847627e-01 4.27177362e-02 8.38394761e-02 1.86595112e-01]\n",
      " [7.59341240e-01 3.19340974e-02 4.81375158e-02 1.60587162e-01]\n",
      " [3.02322190e-02 6.38447702e-01 3.20562840e-01 1.07571827e-02]\n",
      " [9.97012183e-02 3.32154900e-01 4.97171879e-01 7.09719881e-02]\n",
      " [4.58049662e-02 1.89252719e-01 7.38389790e-01 2.65525766e-02]\n",
      " [9.60944965e-03 8.45823526e-01 1.35717645e-01 8.84959195e-03]\n",
      " [5.51120758e-01 3.09732240e-02 5.78475818e-02 3.60058397e-01]\n",
      " [9.79923364e-03 8.29104185e-01 1.52089328e-01 9.00731515e-03]\n",
      " [1.36575950e-02 8.21656227e-01 1.50707603e-01 1.39785083e-02]\n",
      " [8.48008841e-02 4.43556368e-01 4.54251140e-01 1.73915084e-02]\n",
      " [1.90947711e-01 1.16061652e-02 2.63348538e-02 7.71111250e-01]\n",
      " [2.51380146e-01 8.02295096e-03 1.59273949e-02 7.24669516e-01]\n",
      " [3.05685371e-01 4.44062473e-03 1.11362943e-02 6.78737819e-01]\n",
      " [2.52256244e-01 2.32716322e-01 4.16044980e-01 9.89823267e-02]\n",
      " [9.05422747e-01 9.53303836e-03 1.06319627e-02 7.44121447e-02]\n",
      " [7.68161714e-01 1.65288337e-02 2.96269376e-02 1.85682476e-01]\n",
      " [4.80592288e-02 6.66824102e-01 2.54265130e-01 3.08515597e-02]\n",
      " [3.31473470e-01 1.02404701e-02 5.22166975e-02 6.06069386e-01]\n",
      " [7.83240616e-01 1.78325772e-02 3.89455743e-02 1.59981236e-01]\n",
      " [1.62679553e-02 2.21612811e-01 7.42692947e-01 1.94263011e-02]\n",
      " [1.54028321e-02 8.05344045e-01 1.68215796e-01 1.10372175e-02]\n",
      " [2.04690576e-01 3.77353907e-01 3.13893199e-01 1.04062252e-01]\n",
      " [3.73456270e-01 6.24979008e-03 1.75900552e-02 6.02703929e-01]\n",
      " [2.37761691e-01 6.46505784e-03 6.10485710e-02 6.94724560e-01]\n",
      " [4.34738435e-02 2.52591759e-01 6.87871695e-01 1.60627458e-02]\n",
      " [5.37699051e-02 6.66388035e-01 2.39150405e-01 4.06917222e-02]\n",
      " [8.27224255e-02 2.74737716e-01 5.35083950e-01 1.07455835e-01]\n",
      " [8.86598051e-01 9.59113799e-03 1.29991844e-02 9.08116400e-02]\n",
      " [2.48107202e-02 2.17070535e-01 7.45489895e-01 1.26288915e-02]\n",
      " [1.49876159e-02 7.85448134e-01 1.87727854e-01 1.18363537e-02]\n",
      " [3.36704761e-01 1.38217602e-02 2.37164814e-02 6.25756979e-01]\n",
      " [1.50912762e-01 5.27851470e-03 1.73943620e-02 8.26414347e-01]\n",
      " [2.08653007e-02 2.56886035e-01 7.02680588e-01 1.95681080e-02]\n",
      " [1.25000551e-01 1.65031224e-01 1.19187452e-01 5.90780735e-01]\n",
      " [7.41248190e-01 1.84525680e-02 3.90808396e-02 2.01218367e-01]]\n",
      "5/5 [==============================] - 0s 1ms/step - loss: 0.4734 - accuracy: 0.8955\n",
      "[2 1 2 0 3 3 2 1 0 3 2 1 3 0 0 3 1 2 3 0 2 2 2 2 1 2 1 1 2 2 1 3 3 1 3 3 0\n",
      " 2 2 3 0 3 1 2 0 0 2 0 1 2 2 0 3 2 1 3 3 2 0 3 0 0 1 1 3 0 0 1 0 1 0 0 3 2\n",
      " 3 3 0 0 2 2 2 3 3 1 1 3 1 2 3 2 3 1 1 0 0 2 3 3 1 0 0 1 2 2 1 0 1 1 2 3 3\n",
      " 3 2 0 0 1 3 0 2 1 1 3 3 2 1 2 0 2 1 3 3 2 3 0]\n"
     ]
    }
   ],
   "source": [
    "test_acc, y_pred = u.test_model(model, x_test, y_test)\n",
    "print(y_pred)"
   ]
  },
  {
   "cell_type": "code",
   "execution_count": 12,
   "metadata": {},
   "outputs": [
    {
     "name": "stderr",
     "output_type": "stream",
     "text": [
      "/Users/qianruzhang/anaconda3/envs/dl4m/lib/python3.8/site-packages/keras/src/engine/training.py:3000: UserWarning: You are saving your model as an HDF5 file via `model.save()`. This file format is considered legacy. We recommend using instead the native Keras format, e.g. `model.save('my_model.keras')`.\n",
      "  saving_api.save_model(\n"
     ]
    }
   ],
   "source": [
    "model.save('./Handpose-Recognition.h5')"
   ]
  },
  {
   "cell_type": "code",
   "execution_count": 19,
   "metadata": {},
   "outputs": [
    {
     "name": "stdout",
     "output_type": "stream",
     "text": [
      "0.89552241563797\n"
     ]
    }
   ],
   "source": [
    "print(test_acc)"
   ]
  },
  {
   "cell_type": "code",
   "execution_count": 13,
   "metadata": {},
   "outputs": [
    {
     "name": "stdout",
     "output_type": "stream",
     "text": [
      "Model: \"sequential\"\n",
      "_________________________________________________________________\n",
      " Layer (type)                Output Shape              Param #   \n",
      "=================================================================\n",
      " dense (Dense)               (None, 32)                2048      \n",
      "                                                                 \n",
      " dense_1 (Dense)             (None, 4)                 132       \n",
      "                                                                 \n",
      "=================================================================\n",
      "Total params: 2180 (8.52 KB)\n",
      "Trainable params: 2180 (8.52 KB)\n",
      "Non-trainable params: 0 (0.00 Byte)\n",
      "_________________________________________________________________\n"
     ]
    }
   ],
   "source": [
    "model.summary()"
   ]
  },
  {
   "cell_type": "code",
   "execution_count": 14,
   "metadata": {},
   "outputs": [],
   "source": [
    "# %pip install tensorflowjs"
   ]
  },
  {
   "cell_type": "code",
   "execution_count": 15,
   "metadata": {},
   "outputs": [
    {
     "name": "stdout",
     "output_type": "stream",
     "text": [
      "WARNING:root:TensorFlow Decision Forests 1.5.0 is compatible with the following TensorFlow Versions: ['2.13.0']. However, TensorFlow 2.13.1 was detected. This can cause issues with the TF API and symbols in the custom C++ ops. See the TF and TF-DF compatibility table at https://github.com/tensorflow/decision-forests/blob/main/documentation/known_issues.md#compatibility-table.\n",
      "WARNING:tensorflow:Compiled the loaded model, but the compiled metrics have yet to be built. `model.compile_metrics` will be empty until you train or evaluate the model.\n",
      "WARNING:tensorflow:Compiled the loaded model, but the compiled metrics have yet to be built. `model.compile_metrics` will be empty until you train or evaluate the model.\n"
     ]
    }
   ],
   "source": [
    "!tensorflowjs_converter \\\n",
    "    --input_format=keras \\\n",
    "    --output_format=tfjs_graph_model \\\n",
    "    --saved_model_tags=serve \\\n",
    "    /Users/qianruzhang/Documents/GitHub/Machine-Learning-ML5/Week5-Real-Time-Handpose-Recognition/ML/Handpose-Recognition.keras \\\n",
    "    /Users/qianruzhang/Documents/GitHub/Machine-Learning-ML5/Week5-Real-Time-Posture-Recognition/tfjsmodel\n"
   ]
  }
 ],
 "metadata": {
  "kernelspec": {
   "display_name": "base",
   "language": "python",
   "name": "python3"
  },
  "language_info": {
   "codemirror_mode": {
    "name": "ipython",
    "version": 3
   },
   "file_extension": ".py",
   "mimetype": "text/x-python",
   "name": "python",
   "nbconvert_exporter": "python",
   "pygments_lexer": "ipython3",
   "version": "3.8.18"
  }
 },
 "nbformat": 4,
 "nbformat_minor": 2
}
