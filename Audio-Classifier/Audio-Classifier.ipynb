{
  "cells": [
    {
      "cell_type": "markdown",
      "metadata": {
        "colab_type": "text",
        "id": "view-in-github"
      },
      "source": [
        "<a href=\"https://colab.research.google.com/github/RubyQianru/Deep-Learning-for-Media/blob/main/Adapt_to_Audio.ipynb\" target=\"_parent\"><img src=\"https://colab.research.google.com/assets/colab-badge.svg\" alt=\"Open In Colab\"/></a>"
      ]
    },
    {
      "cell_type": "markdown",
      "metadata": {
        "id": "KKa3sQZH3cqb"
      },
      "source": [
        "## Instrument classification using audio\n",
        "\n",
        "Based on the code from the notebook \"Building Blocks\" that we discussed in class, complete this notebook to train a classifier with audio. Change your runtime to use a GPU for faster results."
      ]
    },
    {
      "cell_type": "markdown",
      "metadata": {
        "id": "30rL5z-93cqb"
      },
      "source": [
        "### Obtain the dataset\n",
        "\n",
        "For this assignment we will use a mini version of the Medley-Solos-DB dataset:\n",
        "\n",
        "<blockquote>\n",
        "V. Lostanlen, C.E. Cella. Deep convolutional networks on the pitch spiral for musical instrument recognition. Proceedings of the International Society for Music Information Retrieval Conference (ISMIR), 2016.\n",
        "</blockquote>\n",
        "\n",
        "Download the dataset mini version of the dataset [from this link](bit.ly/mini_medley_solos_db), and save it in your Drive under `mir_datasets/mini_medley_db_solos`."
      ]
    },
    {
      "cell_type": "code",
      "execution_count": 2,
      "metadata": {
        "colab": {
          "base_uri": "https://localhost:8080/"
        },
        "id": "3EFfC2lR3cqc",
        "outputId": "bfe1c7ca-22d8-4423-e49d-d9d62abaed61"
      },
      "outputs": [
        {
          "name": "stdout",
          "output_type": "stream",
          "text": [
            "Mounted at /content/drive\n"
          ]
        }
      ],
      "source": [
        "from google.colab import drive\n",
        "drive.mount('/content/drive')"
      ]
    },
    {
      "cell_type": "code",
      "execution_count": 3,
      "metadata": {
        "id": "uNkbHWvjGvrH"
      },
      "outputs": [],
      "source": [
        "import os\n",
        "import mirdata\n",
        "import librosa\n",
        "import numpy as np\n",
        "import random\n",
        "\n",
        "\n",
        "data_home = '/content/drive/My Drive/mir_datasets/mini_medley_solos_db'\n",
        "dataset = mirdata.initialize('medley_solos_db', data_home=data_home)"
      ]
    },
    {
      "cell_type": "code",
      "execution_count": 4,
      "metadata": {
        "id": "_TOm7n-uWtCj"
      },
      "outputs": [],
      "source": [
        "if not os.path.exists(\"/content/drive/My Drive/mir_datasets/\"):\n",
        "  print(\"Make a directory at `My Drive/mir_datasets/`!\")\n",
        "\n",
        "if not (os.path.exists(\"/content/drive/My Drive/mir_datasets/mini_medley_solos_db\")\n",
        "  and os.path.exists(\"/content/drive/My Drive/mir_datasets/mini_medley_solos_db/audio\")\n",
        "  and os.path.exists(\"/content/drive/My Drive/mir_datasets/mini_medley_solos_db/annotation\")):\n",
        "  print(\"Unzip `mini_medley_solos_db.zip` at `My Drive/mir_datasets/`! It will create two sub-folders, `audio` and `annotation`.\")\n",
        "  print(\"If you're done with it on your laptop, you may need to wait till your Google Drive is sync'ed.\")\n"
      ]
    },
    {
      "cell_type": "code",
      "execution_count": 5,
      "metadata": {
        "colab": {
          "base_uri": "https://localhost:8080/"
        },
        "id": "4OPVIXl6dER_",
        "outputId": "157e4f89-7af2-41da-9450-3ef732110581"
      },
      "outputs": [
        {
          "data": {
            "text/plain": [
              "(array([-0.00023576, -0.00034744, -0.00029236, ..., -0.00042982,\n",
              "         0.00110277,  0.00333256], dtype=float32),\n",
              " 22050)"
            ]
          },
          "execution_count": 5,
          "metadata": {},
          "output_type": "execute_result"
        }
      ],
      "source": [
        "# check that the code runs by loading a random file\n",
        "dataset.track('fe798314-bdfb-5055-f633-5c2df5129be4').audio"
      ]
    },
    {
      "cell_type": "markdown",
      "metadata": {
        "id": "43zQnSD6d-22"
      },
      "source": [
        "We are not going to use the audio waveform directly, the sampling rate of a waveform is very high and it's a lot of data to deal with!\n",
        "\n",
        "Instead, we're going to ''summarize'' its content by extracting some audio features. Those features are called [MFCCs](https://medium.com/prathena/the-dummys-guide-to-mfcc-aceab2450fd), which roughly speaking represent timbre information pretty well."
      ]
    },
    {
      "cell_type": "code",
      "execution_count": 6,
      "metadata": {
        "id": "BlngpypXduGs"
      },
      "outputs": [],
      "source": [
        "def compute_mfccs(y, sr, n_fft=2048, hop_length=512, n_mels=128, n_mfcc=20):\n",
        "    \"\"\"Compute mfccs for an audio file, removing the 0th MFCC coefficient\n",
        "    to be independent of loudness\n",
        "\n",
        "    Parameters\n",
        "    ----------\n",
        "    y : np.array\n",
        "        Mono audio signal\n",
        "    sr : int\n",
        "        Audio sample rate\n",
        "    n_fft : int\n",
        "        Number of points for computing the fft\n",
        "    hop_length : int\n",
        "        Number of samples to advance between frames\n",
        "    n_mels : int\n",
        "        Number of mel frequency bands to use\n",
        "    n_mfcc : int\n",
        "        Number of mfcc's to compute\n",
        "\n",
        "    Returns\n",
        "    -------\n",
        "    mfccs: np.array (t, n_mfcc - 1)\n",
        "        Matrix of mfccs\n",
        "\n",
        "    \"\"\"\n",
        "\n",
        "    mfcc = librosa.feature.mfcc(y=y,\n",
        "                                sr=sr,\n",
        "                                n_mfcc=n_mfcc,\n",
        "                                n_fft=n_fft,\n",
        "                                hop_length=hop_length,\n",
        "                                n_mels=n_mels).T\n",
        "\n",
        "    return mfcc[:, 1:]"
      ]
    },
    {
      "cell_type": "code",
      "execution_count": 7,
      "metadata": {
        "colab": {
          "base_uri": "https://localhost:8080/"
        },
        "id": "mOvhmEPPhpJn",
        "outputId": "45f19afd-cd80-4861-cba1-0534a4010b67"
      },
      "outputs": [
        {
          "name": "stdout",
          "output_type": "stream",
          "text": [
            "There are 584 tracks in the training set\n",
            "There are 65 tracks in the test set\n"
          ]
        }
      ],
      "source": [
        "# run this to create the track (\"songs\") splits\n",
        "all_tracks = dataset.load_tracks()\n",
        "tracks_train = [t for t in all_tracks.values() if t.subset == 'training']\n",
        "tracks_test = [t for t in all_tracks.values() if t.subset == 'test']\n",
        "random.shuffle(tracks_test)\n",
        "tracks_test = tracks_test[:65] # 10% test\n",
        "\n",
        "print(\"There are {} tracks in the training set\".format(len(tracks_train)))\n",
        "print(\"There are {} tracks in the test set\".format(len(tracks_test)))"
      ]
    },
    {
      "cell_type": "code",
      "execution_count": 8,
      "metadata": {
        "id": "dbAtqTV_fJ1n"
      },
      "outputs": [],
      "source": [
        "# get the audio features for each audio track into a list\n",
        "features_train = [compute_mfccs(t.audio[0], t.audio[1]) for t in tracks_train]\n",
        "features_test = [compute_mfccs(t.audio[0], t.audio[1]) for t in tracks_test]\n",
        "# get the labels\n",
        "labels_train = [t.instrument_id for t in tracks_train]\n",
        "labels_test = [t.instrument_id for t in tracks_test]\n",
        "# convert them into an array\n",
        "features_train = np.array(features_train)\n",
        "features_test = np.array(features_test)\n",
        "labels_train = np.array(labels_train)\n",
        "labels_test = np.array(labels_test)"
      ]
    },
    {
      "cell_type": "code",
      "execution_count": 9,
      "metadata": {
        "colab": {
          "base_uri": "https://localhost:8080/"
        },
        "id": "lit7ZaWCk2Cv",
        "outputId": "7afd9006-bb0e-4d39-864d-81d432684567"
      },
      "outputs": [
        {
          "data": {
            "text/plain": [
              "(584, 129, 19)"
            ]
          },
          "execution_count": 9,
          "metadata": {},
          "output_type": "execute_result"
        }
      ],
      "source": [
        "features_train.shape"
      ]
    },
    {
      "cell_type": "code",
      "execution_count": 10,
      "metadata": {
        "colab": {
          "base_uri": "https://localhost:8080/"
        },
        "id": "BEGWe0NC3cqe",
        "outputId": "4416ade0-f161-41dd-9304-f49e07da307e"
      },
      "outputs": [
        {
          "data": {
            "text/plain": [
              "584"
            ]
          },
          "execution_count": 10,
          "metadata": {},
          "output_type": "execute_result"
        }
      ],
      "source": [
        "len(labels_train)"
      ]
    },
    {
      "cell_type": "code",
      "execution_count": 11,
      "metadata": {
        "colab": {
          "base_uri": "https://localhost:8080/"
        },
        "id": "iNuT4b7z3cqe",
        "outputId": "fe3cc82c-1378-4165-c3a1-f9cbf56f6450"
      },
      "outputs": [
        {
          "data": {
            "text/plain": [
              "array([0, 0, 0, 0, 0, 0, 0, 0, 0, 0, 0, 0, 0, 0, 0, 0, 0, 0, 0, 0, 0, 0,\n",
              "       0, 0, 0, 1, 1, 1, 1, 1, 1, 1, 1, 1, 1, 1, 1, 1, 1, 1, 1, 1, 1, 1,\n",
              "       1, 1, 1, 1, 1, 1, 1, 1, 1, 1, 1, 1, 1, 1, 1, 1, 1, 1, 1, 1, 1, 2,\n",
              "       2, 2, 2, 2, 2, 2, 2, 2, 2, 2, 2, 2, 2, 2, 2, 2, 2, 2, 2, 2, 2, 2,\n",
              "       2, 2, 2, 2, 2, 2, 2, 2, 2, 3, 3, 3, 3, 3, 3, 3, 3, 3, 3, 3, 3, 3,\n",
              "       3, 3, 3, 4, 4, 4, 4, 4, 4, 4, 4, 4, 4, 4, 4, 4, 4, 4, 4, 4, 4, 4,\n",
              "       4, 4, 4, 4, 4, 4, 4, 4, 4, 4, 4, 4, 4, 4, 4, 4, 4, 4, 4, 4, 4, 4,\n",
              "       4, 4, 4, 4, 4, 4, 4, 4, 4, 4, 4, 4, 4, 4, 4, 4, 4, 4, 4, 4, 4, 4,\n",
              "       4, 4, 4, 4, 4, 4, 4, 4, 4, 4, 4, 4, 4, 4, 4, 4, 4, 4, 4, 4, 4, 4,\n",
              "       4, 4, 4, 4, 4, 4, 4, 4, 4, 4, 4, 4, 4, 4, 4, 4, 4, 4, 4, 4, 4, 4,\n",
              "       4, 4, 4, 4, 4, 4, 4, 4, 4, 4, 4, 4, 4, 4, 4, 4, 4, 4, 4, 4, 4, 4,\n",
              "       4, 4, 4, 4, 4, 4, 4, 4, 4, 4, 4, 4, 4, 4, 4, 4, 4, 4, 4, 4, 4, 4,\n",
              "       4, 4, 4, 4, 4, 4, 4, 4, 4, 4, 4, 4, 4, 4, 4, 4, 4, 4, 4, 4, 4, 4,\n",
              "       4, 4, 4, 4, 4, 4, 4, 4, 4, 4, 4, 4, 4, 4, 4, 4, 4, 4, 4, 4, 4, 4,\n",
              "       4, 4, 4, 4, 4, 4, 4, 4, 4, 4, 4, 4, 4, 4, 4, 4, 4, 4, 4, 4, 4, 4,\n",
              "       4, 4, 4, 4, 4, 4, 4, 4, 4, 4, 4, 4, 4, 4, 4, 4, 4, 4, 4, 4, 4, 4,\n",
              "       4, 5, 5, 5, 5, 5, 5, 5, 5, 5, 5, 5, 5, 6, 6, 6, 6, 6, 6, 6, 6, 6,\n",
              "       6, 6, 6, 6, 6, 6, 7, 7, 7, 7, 7, 7, 7, 7, 7, 7, 7, 7, 7, 7, 7, 7,\n",
              "       7, 7, 7, 7, 7, 7, 7, 7, 7, 7, 7, 7, 7, 7, 7, 7, 7, 7, 7, 7, 7, 7,\n",
              "       7, 7, 7, 7, 7, 7, 7, 7, 7, 7, 7, 7, 7, 7, 7, 7, 7, 7, 7, 7, 7, 7,\n",
              "       7, 7, 7, 7, 7, 7, 7, 7, 7, 7, 7, 7, 7, 7, 7, 7, 7, 7, 7, 7, 7, 7,\n",
              "       7, 7, 7, 7, 7, 7, 7, 7, 7, 7, 7, 7, 7, 7, 7, 7, 7, 7, 7, 7, 7, 7,\n",
              "       7, 7, 7, 7, 7, 7, 7, 7, 7, 7, 7, 7, 7, 7, 7, 7, 7, 7, 7, 7, 7, 7,\n",
              "       7, 7, 7, 7, 7, 7, 7, 7, 7, 7, 7, 7, 7, 7, 7, 7, 7, 7, 7, 7, 7, 7,\n",
              "       7, 7, 7, 7, 7, 7, 7, 7, 7, 7, 7, 7, 7, 7, 7, 7, 7, 7, 7, 7, 7, 7,\n",
              "       7, 7, 7, 7, 7, 7, 7, 7, 7, 7, 7, 7, 7, 7, 7, 7, 7, 7, 7, 7, 7, 7,\n",
              "       7, 7, 7, 7, 7, 7, 7, 7, 7, 7, 7, 7])"
            ]
          },
          "execution_count": 11,
          "metadata": {},
          "output_type": "execute_result"
        }
      ],
      "source": [
        "labels_train"
      ]
    },
    {
      "cell_type": "code",
      "execution_count": 12,
      "metadata": {
        "colab": {
          "base_uri": "https://localhost:8080/"
        },
        "id": "v3lEX-2c3cqf",
        "outputId": "8822bb19-7542-4509-fc7c-dc72e0186fda"
      },
      "outputs": [
        {
          "data": {
            "text/plain": [
              "(65, 129, 19)"
            ]
          },
          "execution_count": 12,
          "metadata": {},
          "output_type": "execute_result"
        }
      ],
      "source": [
        "features_test.shape"
      ]
    },
    {
      "cell_type": "code",
      "execution_count": 13,
      "metadata": {
        "colab": {
          "base_uri": "https://localhost:8080/"
        },
        "id": "bASR4WML3cqf",
        "outputId": "ee23669e-b8f0-429b-8041-9ea0ba5542c7"
      },
      "outputs": [
        {
          "data": {
            "text/plain": [
              "65"
            ]
          },
          "execution_count": 13,
          "metadata": {},
          "output_type": "execute_result"
        }
      ],
      "source": [
        "len(labels_test)"
      ]
    },
    {
      "cell_type": "code",
      "execution_count": 14,
      "metadata": {
        "colab": {
          "base_uri": "https://localhost:8080/"
        },
        "id": "zx5xtaZX3cqg",
        "outputId": "0daa257b-8041-45d4-b748-e0d245616ada"
      },
      "outputs": [
        {
          "data": {
            "text/plain": [
              "array([4, 3, 4, 0, 3, 3, 2, 7, 7, 3, 6, 7, 3, 7, 3, 1, 3, 3, 7, 4, 3, 3,\n",
              "       4, 2, 3, 3, 3, 0, 4, 7, 3, 4, 3, 5, 2, 7, 3, 2, 3, 4, 1, 2, 1, 6,\n",
              "       2, 3, 3, 1, 1, 6, 2, 7, 7, 7, 1, 4, 4, 4, 7, 6, 2, 2, 1, 4, 7])"
            ]
          },
          "execution_count": 14,
          "metadata": {},
          "output_type": "execute_result"
        }
      ],
      "source": [
        "labels_test"
      ]
    },
    {
      "cell_type": "markdown",
      "metadata": {
        "id": "773_wkgj3cqg"
      },
      "source": [
        "### The network architecture\n",
        "\n",
        "Add code to create a two-dense-layer neural network for instrument classification. The first layer should have a `relu` activation and the second one a `softmax` activation.\n",
        "\n",
        "How many units? (= how large are the layers?)\n",
        "\n",
        "- First layer: 🤷 you can set some number like, 10, or 100, or 30, or 512.\n",
        "- Second (and last) layer: What do you think? Why were there 10 units in the last layer, in the MNIST digit classification examples?"
      ]
    },
    {
      "cell_type": "code",
      "execution_count": 41,
      "metadata": {
        "id": "aZbYb9NJ3cqh"
      },
      "outputs": [],
      "source": [
        "# YOUR CODE HERE\n",
        "#\n",
        "\n",
        "from tensorflow import keras\n",
        "from tensorflow.keras import layers\n",
        "model = keras.Sequential([\n",
        "    layers.Dense(100, activation=\"relu\"),\n",
        "    layers.Dense(10, activation=\"softmax\")\n",
        "])"
      ]
    },
    {
      "cell_type": "markdown",
      "metadata": {
        "id": "BS-U4KTR3cqh"
      },
      "source": [
        "### The compilation step\n",
        "\n",
        "Add code to compile the model with a `rmsprop` optimizer, with a `sparse_categorical_crossentropy` loss and `accuracy` as metric."
      ]
    },
    {
      "cell_type": "code",
      "execution_count": 42,
      "metadata": {
        "id": "oIaCKyno3cqh"
      },
      "outputs": [],
      "source": [
        "# YOUR CODE HERE\n",
        "#\n",
        "\n",
        "model.compile(optimizer=\"rmsprop\",\n",
        "              loss=\"sparse_categorical_crossentropy\",\n",
        "              metrics=[\"accuracy\"])"
      ]
    },
    {
      "cell_type": "markdown",
      "metadata": {
        "id": "OEc2Q1ng3cqi"
      },
      "source": [
        "### Preparing the audio data\n",
        "\n",
        "A dense layer expects a matrix (tensor rank-2) as input. Values, should be normalized between 1 and -1."
      ]
    },
    {
      "cell_type": "code",
      "execution_count": 43,
      "metadata": {
        "id": "1GG-7GOD3cqi"
      },
      "outputs": [],
      "source": [
        "# YOUR CODE HERE\n",
        "#\n",
        "features_train_r2 = features_train.reshape((584, 129 * 19))\n",
        "features_train_r2 = features_train_r2.astype(\"float32\") / 287.44623\n",
        "features_test_r2 = features_test.reshape((65, 129 * 19))\n",
        "features_test_r2 = features_test_r2.astype(\"float32\") / 287.44623"
      ]
    },
    {
      "cell_type": "code",
      "execution_count": 44,
      "metadata": {
        "colab": {
          "base_uri": "https://localhost:8080/"
        },
        "id": "zpoEYr2WJQkX",
        "outputId": "35eea9f5-9330-4c5d-c7ec-f3da7bc76dde"
      },
      "outputs": [
        {
          "data": {
            "text/plain": [
              "1.0"
            ]
          },
          "execution_count": 44,
          "metadata": {},
          "output_type": "execute_result"
        }
      ],
      "source": [
        "features_train_r2.max()"
      ]
    },
    {
      "cell_type": "code",
      "execution_count": 45,
      "metadata": {
        "colab": {
          "base_uri": "https://localhost:8080/"
        },
        "id": "1pxIwFx4JXFB",
        "outputId": "c0fe422d-aa52-4d0a-d83c-b54044bea447"
      },
      "outputs": [
        {
          "data": {
            "text/plain": [
              "-0.584992"
            ]
          },
          "execution_count": 45,
          "metadata": {},
          "output_type": "execute_result"
        }
      ],
      "source": [
        "features_train_r2.min()"
      ]
    },
    {
      "cell_type": "code",
      "execution_count": 46,
      "metadata": {
        "id": "QfCgEvvbozfx"
      },
      "outputs": [],
      "source": [
        "# Check your code\n",
        "assert len(features_train_r2.shape) == 2\n",
        "assert features_train_r2.max() <= 1\n",
        "assert features_train_r2.min() >= -1\n",
        "\n",
        "assert len(features_test_r2.shape) == 2\n",
        "assert features_test_r2.max() <= 1\n",
        "assert features_test_r2.min() >= -1"
      ]
    },
    {
      "cell_type": "markdown",
      "metadata": {
        "id": "cvhKWlig3cqi"
      },
      "source": [
        "### \"Fitting\" the model"
      ]
    },
    {
      "cell_type": "code",
      "execution_count": 48,
      "metadata": {
        "colab": {
          "base_uri": "https://localhost:8080/"
        },
        "id": "MFZ98yaj3cqj",
        "outputId": "f6ff3cc2-6814-49ed-ea1f-94fcd87dbf48"
      },
      "outputs": [
        {
          "name": "stdout",
          "output_type": "stream",
          "text": [
            "Epoch 1/5\n",
            "10/10 [==============================] - 0s 8ms/step - loss: 0.1780 - accuracy: 0.9658\n",
            "Epoch 2/5\n",
            "10/10 [==============================] - 0s 8ms/step - loss: 0.1587 - accuracy: 0.9675\n",
            "Epoch 3/5\n",
            "10/10 [==============================] - 0s 7ms/step - loss: 0.1423 - accuracy: 0.9726\n",
            "Epoch 4/5\n",
            "10/10 [==============================] - 0s 7ms/step - loss: 0.1189 - accuracy: 0.9863\n",
            "Epoch 5/5\n",
            "10/10 [==============================] - 0s 7ms/step - loss: 0.1072 - accuracy: 0.9846\n"
          ]
        },
        {
          "data": {
            "text/plain": [
              "<keras.src.callbacks.History at 0x79d9ef499e70>"
            ]
          },
          "execution_count": 48,
          "metadata": {},
          "output_type": "execute_result"
        }
      ],
      "source": [
        "# YOUR CODE HERE\n",
        "# model..\n",
        "model.fit(features_train_r2, labels_train, epochs=5, batch_size=64)\n"
      ]
    },
    {
      "cell_type": "markdown",
      "metadata": {
        "id": "t8_-1bla3cqj"
      },
      "source": [
        "### Using the model to make predictions"
      ]
    },
    {
      "cell_type": "code",
      "execution_count": 49,
      "metadata": {
        "colab": {
          "base_uri": "https://localhost:8080/"
        },
        "id": "BHZcM1523cqj",
        "outputId": "83980cb3-7d12-4cd8-9b1b-dfb7d470b71b"
      },
      "outputs": [
        {
          "name": "stdout",
          "output_type": "stream",
          "text": [
            "1/1 [==============================] - 0s 51ms/step\n"
          ]
        }
      ],
      "source": [
        "# YOUR CODE HERE\n",
        "\n",
        "predictions = model.predict(features_test_r2[0:5])\n"
      ]
    },
    {
      "cell_type": "code",
      "execution_count": 50,
      "metadata": {
        "colab": {
          "base_uri": "https://localhost:8080/"
        },
        "id": "BWalv4Go3cqj",
        "outputId": "7360cdcc-aadf-4272-a52c-91d08c297a0c"
      },
      "outputs": [
        {
          "data": {
            "text/plain": [
              "4"
            ]
          },
          "execution_count": 50,
          "metadata": {},
          "output_type": "execute_result"
        }
      ],
      "source": [
        "predictions[0].argmax()"
      ]
    },
    {
      "cell_type": "code",
      "execution_count": 51,
      "metadata": {
        "colab": {
          "base_uri": "https://localhost:8080/"
        },
        "id": "SVeG8_5p3cqk",
        "outputId": "b65521b4-4186-412c-f512-1261d203f424"
      },
      "outputs": [
        {
          "data": {
            "text/plain": [
              "5.874169e-05"
            ]
          },
          "execution_count": 51,
          "metadata": {},
          "output_type": "execute_result"
        }
      ],
      "source": [
        "predictions[0][3]"
      ]
    },
    {
      "cell_type": "code",
      "execution_count": 52,
      "metadata": {
        "colab": {
          "base_uri": "https://localhost:8080/"
        },
        "id": "dQQIkG-T3cqk",
        "outputId": "87ebae1a-d4ee-467b-b573-b9d4ffb0c329"
      },
      "outputs": [
        {
          "data": {
            "text/plain": [
              "4"
            ]
          },
          "execution_count": 52,
          "metadata": {},
          "output_type": "execute_result"
        }
      ],
      "source": [
        "labels_test[0]"
      ]
    },
    {
      "cell_type": "code",
      "execution_count": 53,
      "metadata": {
        "colab": {
          "base_uri": "https://localhost:8080/"
        },
        "id": "9FIw6xMpsLOQ",
        "outputId": "4d0d071f-f6bf-4abd-a198-edb13e8555c9"
      },
      "outputs": [
        {
          "data": {
            "text/plain": [
              "array(['0-clarinet', '1-distorted electric guitar', '2-female singer',\n",
              "       '3-flute', '4-piano', '5-tenor saxophone', '6-trumpet', '7-violin'],\n",
              "      dtype='<U27')"
            ]
          },
          "execution_count": 53,
          "metadata": {},
          "output_type": "execute_result"
        }
      ],
      "source": [
        "# check what instrument that corresponds to what label\n",
        "np.unique([f'{t.instrument_id}-{t.instrument}' for t in tracks_test])"
      ]
    },
    {
      "cell_type": "markdown",
      "metadata": {
        "id": "dkLnEALa3cqk"
      },
      "source": [
        "**Evaluating the model on new data**"
      ]
    },
    {
      "cell_type": "code",
      "execution_count": 54,
      "metadata": {
        "colab": {
          "base_uri": "https://localhost:8080/"
        },
        "id": "EfaeS8DL3cqk",
        "outputId": "1c4b128a-c557-4d00-fe17-b1e15aa9f42c"
      },
      "outputs": [
        {
          "name": "stdout",
          "output_type": "stream",
          "text": [
            "3/3 [==============================] - 0s 7ms/step - loss: 1.3453 - accuracy: 0.6769\n",
            "test_acc: 0.6769230961799622\n"
          ]
        }
      ],
      "source": [
        "# YOUR CODE HERE\n",
        "\n",
        "test_loss, test_acc = model.evaluate(features_test_r2, labels_test)\n",
        "print(f\"test_acc: {test_acc}\")"
      ]
    }
  ],
  "metadata": {
    "colab": {
      "include_colab_link": true,
      "provenance": []
    },
    "kernelspec": {
      "display_name": "Python 3",
      "language": "python",
      "name": "python3"
    },
    "language_info": {
      "codemirror_mode": {
        "name": "ipython",
        "version": 3
      },
      "file_extension": ".py",
      "mimetype": "text/x-python",
      "name": "python",
      "nbconvert_exporter": "python",
      "pygments_lexer": "ipython3",
      "version": "3.7.0"
    }
  },
  "nbformat": 4,
  "nbformat_minor": 0
}
